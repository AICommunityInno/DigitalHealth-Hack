{
 "cells": [
  {
   "cell_type": "code",
   "execution_count": null,
   "metadata": {
    "collapsed": false
   },
   "outputs": [],
   "source": [
    "!pip install tqdm"
   ]
  },
  {
   "cell_type": "code",
   "execution_count": 18,
   "metadata": {
    "collapsed": false,
    "deletable": true,
    "editable": true
   },
   "outputs": [],
   "source": [
    "import pandas as pd\n",
    "import numpy as np\n",
    "import re\n",
    "\n",
    "from tqdm import tqdm\n",
    "from collections import defaultdict\n",
    "from sklearn.utils.extmath import softmax\n",
    "from matplotlib import pyplot as plt\n",
    "from collections import Counter\n",
    "\n",
    "%matplotlib inline"
   ]
  },
  {
   "cell_type": "code",
   "execution_count": 2,
   "metadata": {
    "collapsed": false,
    "deletable": true,
    "editable": true
   },
   "outputs": [
    {
     "data": {
      "text/plain": [
       "355"
      ]
     },
     "execution_count": 2,
     "metadata": {},
     "output_type": "execute_result"
    }
   ],
   "source": [
    "train_topic_vectors = np.load('topics_train_ngramm.npy')\n",
    "test_topic_vectors = np.load('topics_test_ngramm.npy')\n",
    "\n",
    "train_topic_vectors[train_topic_vectors < 0.0001] = 0\n",
    "test_topic_vectors[test_topic_vectors < 0.0001] = 0\n",
    "\n",
    "topics_count = train_topic_vectors.shape[1]\n",
    "topics_count"
   ]
  },
  {
   "cell_type": "code",
   "execution_count": 3,
   "metadata": {
    "collapsed": false,
    "deletable": true,
    "editable": true,
    "scrolled": false
   },
   "outputs": [],
   "source": [
    "train_df = pd.read_csv('train_data_complaints_repeats_doctors.csv').fillna('')\n",
    "test_df = pd.read_csv('test_data_complaints_repeats_doctors.csv').fillna('')"
   ]
  },
  {
   "cell_type": "code",
   "execution_count": 65,
   "metadata": {
    "collapsed": false,
    "deletable": true,
    "editable": true
   },
   "outputs": [],
   "source": [
    "active_topics = 250\n",
    "topic_names = ['topic_{}'.format(i) for i in range(active_topics)]\n",
    "\n",
    "train_df[topic_names] = pd.DataFrame(train_topic_vectors[:, :active_topics])\n",
    "test_df[topic_names] = pd.DataFrame(train_topic_vectors[:, :active_topics])"
   ]
  },
  {
   "cell_type": "code",
   "execution_count": 66,
   "metadata": {
    "collapsed": false,
    "deletable": true,
    "editable": true
   },
   "outputs": [],
   "source": [
    "freq_diagnoses = train_df.groupby(['Id_Пациента']).apply(lambda x: np.argmax(x.Код_диагноза.value_counts()))"
   ]
  },
  {
   "cell_type": "code",
   "execution_count": 67,
   "metadata": {
    "collapsed": true,
    "deletable": true,
    "editable": true
   },
   "outputs": [],
   "source": [
    "MAX_AGE = 98\n",
    "\n",
    "train_df.Возраст = np.maximum(train_df.Возраст.values, MAX_AGE)\n",
    "test_df.Возраст = np.maximum(test_df.Возраст.values, MAX_AGE)"
   ]
  },
  {
   "cell_type": "code",
   "execution_count": 73,
   "metadata": {
    "collapsed": false,
    "deletable": true,
    "editable": true
   },
   "outputs": [
    {
     "data": {
      "text/plain": [
       "767"
      ]
     },
     "execution_count": 73,
     "metadata": {},
     "output_type": "execute_result"
    }
   ],
   "source": [
    "min_freq_threshold = 5\n",
    "classes_count = (train_df.Код_диагноза.value_counts() > min_freq_threshold).sum() + 1\n",
    "classes_count"
   ]
  },
  {
   "cell_type": "code",
   "execution_count": 74,
   "metadata": {
    "collapsed": false,
    "deletable": true,
    "editable": true
   },
   "outputs": [],
   "source": [
    "classes = list((train_df.Код_диагноза.value_counts() > min_freq_threshold)[\n",
    "    (train_df.Код_диагноза.value_counts() > min_freq_threshold)].keys())"
   ]
  },
  {
   "cell_type": "code",
   "execution_count": 75,
   "metadata": {
    "collapsed": false,
    "deletable": true,
    "editable": true
   },
   "outputs": [],
   "source": [
    "class_to_idx = {c: i for i, c in enumerate(classes, start=1)}\n",
    "idx_to_class = {i: c for i, c in enumerate(classes, start=1)}"
   ]
  },
  {
   "cell_type": "code",
   "execution_count": 76,
   "metadata": {
    "collapsed": true,
    "deletable": true,
    "editable": true
   },
   "outputs": [],
   "source": [
    "def df2vw(features_extractor, df, out_filename, train=True):\n",
    "    file = open(out_filename, 'w', encoding='utf8')\n",
    "    for row in tqdm(df.iterrows()):\n",
    "        features = features_extractor(row)\n",
    "        if train:\n",
    "            label = class_to_idx.get(row[1].Код_диагноза, len(class_to_idx) + 1)\n",
    "        else:\n",
    "            label = ''\n",
    "        file.write('{} {}\\n'.format(label, features))\n",
    "    file.close()"
   ]
  },
  {
   "cell_type": "code",
   "execution_count": 77,
   "metadata": {
    "collapsed": true
   },
   "outputs": [],
   "source": [
    "def extract_ngram_body(row, ngram=3):\n",
    "    body_text = row[1]['Жалобы']\n",
    "    body_text = re.sub('[\\|\\:]', '䷀', body_text)\n",
    "    body_text = re.sub('\\n', '䷚', body_text)\n",
    "    \n",
    "    def compute_word_ngrams(counter, word, ngram):\n",
    "        for index in range(1, len(word) - ngram + 1):\n",
    "            counter[word[index:(index + ngram)]] += 1\n",
    "            \n",
    "    ngrams_dict = Counter()\n",
    "    for word in body_text.split(' '):\n",
    "        compute_word_ngrams(ngrams_dict, word, ngram)\n",
    "        \n",
    "    return ' '.join('{}:{}'.format(*item) for item in ngrams_dict.items())"
   ]
  },
  {
   "cell_type": "code",
   "execution_count": 78,
   "metadata": {
    "collapsed": false,
    "deletable": true,
    "editable": true
   },
   "outputs": [],
   "source": [
    "def extract_words(row):\n",
    "    return '|doctor ' + str(row[1].Врач) + ' ' + \\\n",
    "           '|clinic ' + str(row[1].Клиника) + ' ' + \\\n",
    "           '|gender ' + str(row[1].Пол) + ' ' + \\\n",
    "           '|age_feature:' + str(MAX_AGE) + ' age:' + str(row[1].Возраст) + ' ' + \\\n",
    "           '|topics ' + ' '.join(topic_name + ':' + str(row[1][topic_name])\n",
    "                                  for topic_name in topic_names) + ' ' + \\\n",
    "           '|char_ngrams ' + extract_ngram_body(row) + ' ' + \\\n",
    "           '|complaint_ngram ' + str(row[1]['Жалобы (ngramm)']) + ' ' + \\\n",
    "           '|complaint_uni ' + str(row[1]['Жалобы (unigramm)'])"
   ]
  },
  {
   "cell_type": "code",
   "execution_count": 79,
   "metadata": {
    "collapsed": false,
    "deletable": true,
    "editable": true
   },
   "outputs": [
    {
     "name": "stderr",
     "output_type": "stream",
     "text": [
      "61976it [01:45, 586.51it/s]\n"
     ]
    }
   ],
   "source": [
    "df2vw(extract_words, train_df, 'train.vw')"
   ]
  },
  {
   "cell_type": "code",
   "execution_count": 80,
   "metadata": {
    "collapsed": false,
    "deletable": true,
    "editable": true
   },
   "outputs": [
    {
     "name": "stderr",
     "output_type": "stream",
     "text": [
      "30000it [00:50, 597.49it/s]\n"
     ]
    }
   ],
   "source": [
    "df2vw(extract_words, test_df, 'test.vw', train=False)"
   ]
  },
  {
   "cell_type": "code",
   "execution_count": 81,
   "metadata": {
    "collapsed": false
   },
   "outputs": [],
   "source": [
    "! rm cache_file.vw"
   ]
  },
  {
   "cell_type": "code",
   "execution_count": 82,
   "metadata": {
    "collapsed": false,
    "deletable": true,
    "editable": true,
    "scrolled": false
   },
   "outputs": [
    {
     "name": "stdout",
     "output_type": "stream",
     "text": [
      "final_regressor = model\n",
      "Num weight bits = 22\n",
      "learning rate = 0.5\n",
      "initial_t = 0\n",
      "power_t = 0.5\n",
      "decay_learning_rate = 1\n",
      "creating cache_file = cache_file.vw\n",
      "Reading datafile = train.vw\n",
      "num sources = 1\n",
      "average  since         example        example  current  current  current\n",
      "loss     last          counter         weight    label  predict features\n",
      "1.000000 1.000000            1            1.0        9        1       48\n",
      "1.000000 1.000000            2            2.0      156        9       32\n",
      "1.000000 1.000000            4            4.0       15      156       43\n",
      "1.000000 1.000000            8            8.0       13      156       22\n",
      "1.000000 1.000000           16           16.0      126      767       50\n",
      "0.937500 0.875000           32           32.0       16       26       61\n",
      "0.937500 0.937500           64           64.0      191      767       16\n",
      "0.898438 0.859375          128          128.0        1        1      100\n",
      "0.890625 0.882812          256          256.0       45       13       84\n",
      "0.861328 0.832031          512          512.0      416       27       48\n",
      "0.836914 0.812500         1024         1024.0       87       25       19\n",
      "0.823242 0.809570         2048         2048.0       19       19       41\n",
      "0.786865 0.750488         4096         4096.0        1        9      123\n",
      "0.755615 0.724365         8192         8192.0      129        6       15\n",
      "0.726074 0.696533        16384        16384.0        2        2       28\n",
      "0.707550 0.689026        32768        32768.0        8       22       25\n",
      "0.675182 0.675182        65536        65536.0        5        5       48 h\n",
      "0.659250 0.643318       131072       131072.0        6        6       15 h\n",
      "0.647782 0.636314       262144       262144.0      600      600       99 h\n",
      "\n",
      "finished run\n",
      "number of examples per pass = 55779\n",
      "passes used = 5\n",
      "weighted example sum = 278895.000000\n",
      "weighted label sum = 0.000000\n",
      "average loss = 0.636276 h\n",
      "total feature number = 13663575\n"
     ]
    }
   ],
   "source": [
    "! vw -d train.vw --loss_function logistic --oaa $classes_count -f model --threads -b 22 --passes 5 --cache_file cache_file.vw"
   ]
  },
  {
   "cell_type": "code",
   "execution_count": 83,
   "metadata": {
    "collapsed": false,
    "deletable": true,
    "editable": true
   },
   "outputs": [
    {
     "name": "stdout",
     "output_type": "stream",
     "text": [
      "only testing\n",
      "raw predictions = pred.out\n",
      "Num weight bits = 22\n",
      "learning rate = 0.5\n",
      "initial_t = 0\n",
      "power_t = 0.5\n",
      "using no cache\n",
      "Reading datafile = test.vw\n",
      "num sources = 1\n",
      "average  since         example        example  current  current  current\n",
      "loss     last          counter         weight    label  predict features\n",
      "    n.a.     n.a.            1            1.0  unknown      767       61\n",
      "    n.a.     n.a.            2            2.0  unknown      767       32\n",
      "    n.a.     n.a.            4            4.0  unknown      767       22\n",
      "    n.a.     n.a.            8            8.0  unknown      767       58\n",
      "    n.a.     n.a.           16           16.0  unknown      767       21\n",
      "    n.a.     n.a.           32           32.0  unknown      767       83\n",
      "    n.a.     n.a.           64           64.0  unknown        1       91\n",
      "    n.a.     n.a.          128          128.0  unknown      767       30\n",
      "    n.a.     n.a.          256          256.0  unknown      767       38\n",
      "    n.a.     n.a.          512          512.0  unknown      767       31\n",
      "    n.a.     n.a.         1024         1024.0  unknown      767       10\n",
      "    n.a.     n.a.         2048         2048.0  unknown      767       49\n",
      "    n.a.     n.a.         4096         4096.0  unknown      767       51\n",
      "    n.a.     n.a.         8192         8192.0  unknown      767       34\n",
      "    n.a.     n.a.        16384        16384.0  unknown      767       47\n",
      "\n",
      "finished run\n",
      "number of examples per pass = 30000\n",
      "passes used = 1\n",
      "weighted example sum = 30000.000000\n",
      "weighted label sum = 0.000000\n",
      "average loss = n.a.\n",
      "total feature number = 1460230\n"
     ]
    }
   ],
   "source": [
    "! vw -i model -t test.vw -r pred.out --threads"
   ]
  },
  {
   "cell_type": "code",
   "execution_count": 87,
   "metadata": {
    "collapsed": false,
    "deletable": true,
    "editable": true
   },
   "outputs": [],
   "source": [
    "def vw2probs(pred_name):\n",
    "    predictions = []\n",
    "    with open(pred_name) as file:\n",
    "        for line in file.readlines():\n",
    "            pred = [float(token.split(':')[1]) for token in line.split()]\n",
    "            predictions.append(softmax(np.array([pred]))[0].argmax() + 1) # Predictions are from 1 to classes_count\n",
    "    return np.array(predictions)"
   ]
  },
  {
   "cell_type": "code",
   "execution_count": 88,
   "metadata": {
    "collapsed": false,
    "deletable": true,
    "editable": true
   },
   "outputs": [],
   "source": [
    "result = vw2probs('pred.out')"
   ]
  },
  {
   "cell_type": "code",
   "execution_count": 90,
   "metadata": {
    "collapsed": false,
    "deletable": true,
    "editable": true
   },
   "outputs": [
    {
     "data": {
      "text/plain": [
       "4553"
      ]
     },
     "execution_count": 90,
     "metadata": {},
     "output_type": "execute_result"
    }
   ],
   "source": [
    "nontrivial_diagnosis = (result != classes_count).sum()\n",
    "nontrivial_diagnosis"
   ]
  },
  {
   "cell_type": "code",
   "execution_count": 91,
   "metadata": {
    "collapsed": false,
    "deletable": true,
    "editable": true
   },
   "outputs": [],
   "source": [
    "test_df['Код_диагноза'] = [idx_to_class.get(i, '') for i in result]"
   ]
  },
  {
   "cell_type": "code",
   "execution_count": 92,
   "metadata": {
    "collapsed": false,
    "deletable": true,
    "editable": true
   },
   "outputs": [
    {
     "name": "stderr",
     "output_type": "stream",
     "text": [
      "/opt/miniconda/envs/deeplearn/lib/python3.5/site-packages/ipykernel/__main__.py:1: SettingWithCopyWarning: \n",
      "A value is trying to be set on a copy of a slice from a DataFrame\n",
      "\n",
      "See the caveats in the documentation: http://pandas.pydata.org/pandas-docs/stable/indexing.html#indexing-view-versus-copy\n",
      "  if __name__ == '__main__':\n"
     ]
    }
   ],
   "source": [
    "test_df['Код_диагноза'][test_df['Код_диагноза'] == ''] = test_df[test_df['Код_диагноза'] == '']\\\n",
    "                            .apply(lambda row: freq_diagnoses.get(row.Id_Пациента, 'J06.9'), axis=1)"
   ]
  },
  {
   "cell_type": "code",
   "execution_count": 93,
   "metadata": {
    "collapsed": false,
    "deletable": true,
    "editable": true
   },
   "outputs": [],
   "source": [
    "test_df[['Id_Записи', 'Код_диагноза']].to_csv('./submission_vw.csv', index=False, encoding='utf8')"
   ]
  },
  {
   "cell_type": "code",
   "execution_count": null,
   "metadata": {
    "collapsed": true
   },
   "outputs": [],
   "source": []
  }
 ],
 "metadata": {
  "kernelspec": {
   "display_name": "Python 3",
   "language": "python",
   "name": "python3"
  },
  "language_info": {
   "codemirror_mode": {
    "name": "ipython",
    "version": 3
   },
   "file_extension": ".py",
   "mimetype": "text/x-python",
   "name": "python",
   "nbconvert_exporter": "python",
   "pygments_lexer": "ipython3",
   "version": "3.5.4"
  }
 },
 "nbformat": 4,
 "nbformat_minor": 2
}
