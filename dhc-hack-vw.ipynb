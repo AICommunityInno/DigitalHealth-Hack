{
 "cells": [
  {
   "cell_type": "code",
   "execution_count": 1,
   "metadata": {
    "collapsed": true,
    "deletable": true,
    "editable": true
   },
   "outputs": [],
   "source": [
    "import pandas as pd\n",
    "import numpy as np\n",
    "\n",
    "from tqdm import tqdm\n",
    "from collections import defaultdict\n",
    "from sklearn.utils.extmath import softmax"
   ]
  },
  {
   "cell_type": "code",
   "execution_count": 2,
   "metadata": {
    "collapsed": false,
    "deletable": true,
    "editable": true
   },
   "outputs": [
    {
     "data": {
      "text/html": [
       "<div>\n",
       "<style>\n",
       "    .dataframe thead tr:only-child th {\n",
       "        text-align: right;\n",
       "    }\n",
       "\n",
       "    .dataframe thead th {\n",
       "        text-align: left;\n",
       "    }\n",
       "\n",
       "    .dataframe tbody tr th {\n",
       "        vertical-align: top;\n",
       "    }\n",
       "</style>\n",
       "<table border=\"1\" class=\"dataframe\">\n",
       "  <thead>\n",
       "    <tr style=\"text-align: right;\">\n",
       "      <th></th>\n",
       "      <th>Id_Записи</th>\n",
       "      <th>Id_Пациента</th>\n",
       "      <th>Возраст</th>\n",
       "      <th>Диагноз</th>\n",
       "      <th>Жалобы</th>\n",
       "      <th>Источник_рекламы</th>\n",
       "      <th>Клиника</th>\n",
       "      <th>Код_диагноза</th>\n",
       "      <th>Пол</th>\n",
       "      <th>Услуга</th>\n",
       "    </tr>\n",
       "  </thead>\n",
       "  <tbody>\n",
       "    <tr>\n",
       "      <th>0</th>\n",
       "      <td>0</td>\n",
       "      <td>115819</td>\n",
       "      <td>54</td>\n",
       "      <td>Гипертензивная болезнь сердца [гипертоническая...</td>\n",
       "      <td>на повышение ад утром до 140/90 мм.рт.ст., пер...</td>\n",
       "      <td>Другое</td>\n",
       "      <td>5</td>\n",
       "      <td>I11</td>\n",
       "      <td>2</td>\n",
       "      <td>Прием врача-кардиолога  повторный, амбулаторный</td>\n",
       "    </tr>\n",
       "    <tr>\n",
       "      <th>1</th>\n",
       "      <td>1</td>\n",
       "      <td>399973</td>\n",
       "      <td>32</td>\n",
       "      <td>Доброкачественное новообразование молочной железы</td>\n",
       "      <td>На наличие опухоли в левой молочной железе</td>\n",
       "      <td>Другое</td>\n",
       "      <td>3</td>\n",
       "      <td>D24</td>\n",
       "      <td>2</td>\n",
       "      <td>Прием врача-онколога (маммолога), повторный, а...</td>\n",
       "    </tr>\n",
       "    <tr>\n",
       "      <th>2</th>\n",
       "      <td>2</td>\n",
       "      <td>427563</td>\n",
       "      <td>72</td>\n",
       "      <td>Простой хронический бронхит</td>\n",
       "      <td>Активных жалоб нет.</td>\n",
       "      <td>Интернет</td>\n",
       "      <td>6</td>\n",
       "      <td>J41.0</td>\n",
       "      <td>2</td>\n",
       "      <td>Прием первичный врача-пульмонолога</td>\n",
       "    </tr>\n",
       "  </tbody>\n",
       "</table>\n",
       "</div>"
      ],
      "text/plain": [
       "   Id_Записи  Id_Пациента  Возраст  \\\n",
       "0          0       115819       54   \n",
       "1          1       399973       32   \n",
       "2          2       427563       72   \n",
       "\n",
       "                                             Диагноз  \\\n",
       "0  Гипертензивная болезнь сердца [гипертоническая...   \n",
       "1  Доброкачественное новообразование молочной железы   \n",
       "2                        Простой хронический бронхит   \n",
       "\n",
       "                                              Жалобы Источник_рекламы  \\\n",
       "0  на повышение ад утром до 140/90 мм.рт.ст., пер...           Другое   \n",
       "1         На наличие опухоли в левой молочной железе           Другое   \n",
       "2                                Активных жалоб нет.         Интернет   \n",
       "\n",
       "   Клиника Код_диагноза  Пол  \\\n",
       "0        5          I11    2   \n",
       "1        3          D24    2   \n",
       "2        6        J41.0    2   \n",
       "\n",
       "                                              Услуга  \n",
       "0    Прием врача-кардиолога  повторный, амбулаторный  \n",
       "1  Прием врача-онколога (маммолога), повторный, а...  \n",
       "2                 Прием первичный врача-пульмонолога  "
      ]
     },
     "execution_count": 2,
     "metadata": {},
     "output_type": "execute_result"
    }
   ],
   "source": [
    "train_df = pd.read_csv('train_data.csv', sep=';')\n",
    "test_df = pd.read_csv('test_data.csv', sep=';')\n",
    "train_df.head(3)"
   ]
  },
  {
   "cell_type": "code",
   "execution_count": 3,
   "metadata": {
    "collapsed": false
   },
   "outputs": [],
   "source": [
    "freq_diagnoses = train_df.groupby(['Id_Пациента']).apply(lambda x: np.argmax(x.Код_диагноза.value_counts()))"
   ]
  },
  {
   "cell_type": "code",
   "execution_count": 4,
   "metadata": {
    "collapsed": false,
    "deletable": true,
    "editable": true
   },
   "outputs": [
    {
     "data": {
      "text/plain": [
       "767"
      ]
     },
     "execution_count": 4,
     "metadata": {},
     "output_type": "execute_result"
    }
   ],
   "source": [
    "min_freq_threshold = 5\n",
    "classes_count = (train_df.Код_диагноза.value_counts() > min_freq_threshold).sum() + 1\n",
    "classes_count"
   ]
  },
  {
   "cell_type": "code",
   "execution_count": 5,
   "metadata": {
    "collapsed": false,
    "deletable": true,
    "editable": true
   },
   "outputs": [],
   "source": [
    "classes = list((train_df.Код_диагноза.value_counts() > min_freq_threshold)[\n",
    "    (train_df.Код_диагноза.value_counts() > min_freq_threshold)].keys())"
   ]
  },
  {
   "cell_type": "code",
   "execution_count": 6,
   "metadata": {
    "collapsed": false,
    "deletable": true,
    "editable": true
   },
   "outputs": [],
   "source": [
    "class_to_idx = {c: i for i, c in enumerate(classes, start=1)}\n",
    "idx_to_class = {i: c for i, c in enumerate(classes, start=1)}"
   ]
  },
  {
   "cell_type": "code",
   "execution_count": 7,
   "metadata": {
    "collapsed": true,
    "deletable": true,
    "editable": true
   },
   "outputs": [],
   "source": [
    "def df2vw(features_extractor, df, out_filename, train=True):\n",
    "    file = open(out_filename, 'w', encoding='utf8')\n",
    "    for row in tqdm(df.iterrows()):\n",
    "        features = features_extractor(row)\n",
    "        if train:\n",
    "            label = class_to_idx.get(row[1].Код_диагноза, len(class_to_idx) + 1)\n",
    "        else:\n",
    "            label = ''\n",
    "        file.write('{} {}\\n'.format(label, features))\n",
    "    file.close()"
   ]
  },
  {
   "cell_type": "code",
   "execution_count": 8,
   "metadata": {
    "collapsed": true,
    "deletable": true,
    "editable": true
   },
   "outputs": [],
   "source": [
    "extract_words = lambda row: '|complaint ' + row[1].Жалобы.replace(':', '').lower() + \\\n",
    "                            '|doctor ' + row[1].Услуга.replace(':', '').lower() + \\\n",
    "                            '|age ' + str(row[1].Возраст)"
   ]
  },
  {
   "cell_type": "code",
   "execution_count": 9,
   "metadata": {
    "collapsed": false,
    "deletable": true,
    "editable": true
   },
   "outputs": [
    {
     "name": "stderr",
     "output_type": "stream",
     "text": [
      "61976it [00:04, 13216.97it/s]\n"
     ]
    }
   ],
   "source": [
    "df2vw(extract_words, train_df, 'train.vw')"
   ]
  },
  {
   "cell_type": "code",
   "execution_count": 10,
   "metadata": {
    "collapsed": false,
    "deletable": true,
    "editable": true
   },
   "outputs": [
    {
     "name": "stderr",
     "output_type": "stream",
     "text": [
      "30000it [00:01, 15034.63it/s]\n"
     ]
    }
   ],
   "source": [
    "df2vw(extract_words, test_df, 'test.vw', train=False)"
   ]
  },
  {
   "cell_type": "code",
   "execution_count": 11,
   "metadata": {
    "collapsed": false,
    "deletable": true,
    "editable": true
   },
   "outputs": [
    {
     "name": "stdout",
     "output_type": "stream",
     "text": [
      "final_regressor = model\n",
      "Num weight bits = 18\n",
      "learning rate = 0.5\n",
      "initial_t = 0\n",
      "power_t = 0.5\n",
      "using no cache\n",
      "Reading datafile = train.vw\n",
      "num sources = 1\n",
      "average  since         example        example  current  current  current\n",
      "loss     last          counter         weight    label  predict features\n",
      "1.000000 1.000000            1            1.0        9        1       15\n",
      "1.000000 1.000000            2            2.0      156        9       14\n",
      "1.000000 1.000000            4            4.0       15      156       16\n",
      "1.000000 1.000000            8            8.0       13      156       14\n",
      "1.000000 1.000000           16           16.0        2       23       12\n",
      "0.968750 0.937500           32           32.0      688       60       11\n",
      "0.984375 1.000000           64           64.0        1       60       32\n",
      "0.929688 0.875000          128          128.0      136        2        9\n",
      "0.917969 0.906250          256          256.0        1        1       13\n",
      "0.888672 0.859375          512          512.0        1        1       23\n",
      "0.847656 0.806641         1024         1024.0      193        7        9\n",
      "0.833496 0.819336         2048         2048.0       17       17       15\n",
      "0.799072 0.764648         4096         4096.0        3        3       10\n",
      "0.770874 0.742676         8192         8192.0      767        2       12\n",
      "0.744690 0.718506        16384        16384.0       22        5       19\n",
      "0.723755 0.702820        32768        32768.0      767        6       14\n",
      "\n",
      "finished run\n",
      "number of examples per pass = 61976\n",
      "passes used = 1\n",
      "weighted example sum = 61976.000000\n",
      "weighted label sum = 0.000000\n",
      "average loss = 0.696302\n",
      "total feature number = 928382\n"
     ]
    }
   ],
   "source": [
    "! vw -d train.vw --loss_function logistic --oaa $classes_count -f model"
   ]
  },
  {
   "cell_type": "code",
   "execution_count": 12,
   "metadata": {
    "collapsed": false,
    "deletable": true,
    "editable": true
   },
   "outputs": [
    {
     "name": "stdout",
     "output_type": "stream",
     "text": [
      "only testing\n",
      "raw predictions = pred.out\n",
      "Num weight bits = 18\n",
      "learning rate = 0.5\n",
      "initial_t = 0\n",
      "power_t = 0.5\n",
      "using no cache\n",
      "Reading datafile = test.vw\n",
      "num sources = 1\n",
      "average  since         example        example  current  current  current\n",
      "loss     last          counter         weight    label  predict features\n",
      "    n.a.     n.a.            1            1.0  unknown      767       17\n",
      "    n.a.     n.a.            2            2.0  unknown      767       12\n",
      "    n.a.     n.a.            4            4.0  unknown      767       10\n",
      "    n.a.     n.a.            8            8.0  unknown      767       20\n",
      "    n.a.     n.a.           16           16.0  unknown      767       10\n",
      "    n.a.     n.a.           32           32.0  unknown      767       24\n",
      "    n.a.     n.a.           64           64.0  unknown      767       28\n",
      "    n.a.     n.a.          128          128.0  unknown      767       12\n",
      "    n.a.     n.a.          256          256.0  unknown      767       13\n",
      "    n.a.     n.a.          512          512.0  unknown      767        9\n",
      "    n.a.     n.a.         1024         1024.0  unknown      767        7\n",
      "    n.a.     n.a.         2048         2048.0  unknown      767       14\n",
      "    n.a.     n.a.         4096         4096.0  unknown      767       21\n",
      "    n.a.     n.a.         8192         8192.0  unknown      767       12\n",
      "    n.a.     n.a.        16384        16384.0  unknown      767       12\n",
      "\n",
      "finished run\n",
      "number of examples per pass = 30000\n",
      "passes used = 1\n",
      "weighted example sum = 30000.000000\n",
      "weighted label sum = 0.000000\n",
      "average loss = n.a.\n",
      "total feature number = 449010\n"
     ]
    }
   ],
   "source": [
    "! vw -i model -t test.vw -r pred.out"
   ]
  },
  {
   "cell_type": "code",
   "execution_count": 13,
   "metadata": {
    "collapsed": false,
    "deletable": true,
    "editable": true
   },
   "outputs": [],
   "source": [
    "def vw2probs(pred_name):\n",
    "    predictions = []\n",
    "    with open(pred_name) as file:\n",
    "        for line in file.readlines():\n",
    "            pred = [float(token.split(':')[1]) for token in line.split()]\n",
    "            predictions.append(softmax(np.array([pred]))[0].argmax() + 1) # Predictions are from 1 to classes_count\n",
    "    return np.array(predictions)"
   ]
  },
  {
   "cell_type": "code",
   "execution_count": 14,
   "metadata": {
    "collapsed": false
   },
   "outputs": [],
   "source": [
    "result = vw2probs('pred.out')"
   ]
  },
  {
   "cell_type": "code",
   "execution_count": 15,
   "metadata": {
    "collapsed": false
   },
   "outputs": [
    {
     "data": {
      "text/plain": [
       "2680"
      ]
     },
     "execution_count": 15,
     "metadata": {},
     "output_type": "execute_result"
    }
   ],
   "source": [
    "nontrivial_diagnosis = (result != classes_count).sum()\n",
    "nontrivial_diagnosis"
   ]
  },
  {
   "cell_type": "code",
   "execution_count": 16,
   "metadata": {
    "collapsed": false
   },
   "outputs": [],
   "source": [
    "test_df['Код_диагноза'] = [idx_to_class.get(i, '') for i in result]"
   ]
  },
  {
   "cell_type": "code",
   "execution_count": 17,
   "metadata": {
    "collapsed": false
   },
   "outputs": [
    {
     "name": "stderr",
     "output_type": "stream",
     "text": [
      "/opt/miniconda/envs/deeplearn/lib/python3.5/site-packages/ipykernel/__main__.py:1: SettingWithCopyWarning: \n",
      "A value is trying to be set on a copy of a slice from a DataFrame\n",
      "\n",
      "See the caveats in the documentation: http://pandas.pydata.org/pandas-docs/stable/indexing.html#indexing-view-versus-copy\n",
      "  if __name__ == '__main__':\n"
     ]
    }
   ],
   "source": [
    "test_df['Код_диагноза'][test_df['Код_диагноза'] == ''] = test_df[test_df['Код_диагноза'] == '']\\\n",
    "                            .apply(lambda row: freq_diagnoses.get(row.Id_Пациента, 'J06.9'), axis=1)"
   ]
  },
  {
   "cell_type": "code",
   "execution_count": 18,
   "metadata": {
    "collapsed": false
   },
   "outputs": [],
   "source": [
    "test_df[['Id_Записи', 'Код_диагноза']].to_csv('./submission_vw.csv', index=False, encoding='utf8')"
   ]
  }
 ],
 "metadata": {
  "kernelspec": {
   "display_name": "Python 3",
   "language": "python",
   "name": "python3"
  },
  "language_info": {
   "codemirror_mode": {
    "name": "ipython",
    "version": 3
   },
   "file_extension": ".py",
   "mimetype": "text/x-python",
   "name": "python",
   "nbconvert_exporter": "python",
   "pygments_lexer": "ipython3",
   "version": "3.5.4"
  }
 },
 "nbformat": 4,
 "nbformat_minor": 2
}
