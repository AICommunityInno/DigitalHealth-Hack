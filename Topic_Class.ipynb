{
 "cells": [
  {
   "cell_type": "code",
   "execution_count": 10,
   "metadata": {},
   "outputs": [],
   "source": [
    "import numpy as np\n",
    "import pandas as pd\n",
    "\n",
    "from keras.optimizers import RMSprop\n",
    "from keras.models import Sequential\n",
    "from keras.layers import Dense, Dropout\n",
    "\n",
    "from utils import get_most_popular_diagnoses\n",
    "from sklearn.model_selection import train_test_split\n",
    "from sklearn.linear_model import LogisticRegression\n",
    "from sklearn.svm import SVC"
   ]
  },
  {
   "cell_type": "code",
   "execution_count": 3,
   "metadata": {
    "collapsed": true
   },
   "outputs": [],
   "source": [
    "df_train = pd.read_csv('train_data_complaints_repeats_doctors.csv')\n",
    "df_test = pd.read_csv('test_data_complaints_repeats_doctors.csv')\n",
    "\n",
    "pop_diagnoses = np.array(get_most_popular_diagnoses(df_train))\n",
    "pop_diagnose_flags = df_train['Код_диагноза'].apply(lambda x: x in pop_diagnoses)\n",
    "\n",
    "df_train_pop = df_train[df_train['Код_диагноза'].apply(lambda x: x in pop_diagnoses)]\n",
    "X = np.load('topics_train_ngramm.npy')[pop_diagnose_flags]\n",
    "Y = [np.where(pop_diagnoses==y)[0][0] for y in df_train_pop['Код_диагноза'].values]\n",
    "\n",
    "Y_bin = np.zeros((len(Y), pop_diagnoses.shape[0]))\n",
    "for y, y_bin in zip(Y, Y_bin): y_bin[y] = 1\n",
    "\n",
    "X_train, X_test, Y_train, Y_test = train_test_split(X, Y_bin, test_size=0.3)"
   ]
  },
  {
   "cell_type": "code",
   "execution_count": 16,
   "metadata": {},
   "outputs": [
    {
     "data": {
      "text/plain": [
       "0.24745244565217392"
      ]
     },
     "execution_count": 16,
     "metadata": {},
     "output_type": "execute_result"
    }
   ],
   "source": [
    "lr = LogisticRegression(max_iter=10,  verbose=1).fit(X_train, Y_train)\n",
    "\n",
    "Y_pred = lr.predict(X_test)\n",
    "(Y_pred == Y_test).sum()/len(Y_test)"
   ]
  },
  {
   "cell_type": "code",
   "execution_count": 20,
   "metadata": {},
   "outputs": [
    {
     "data": {
      "text/plain": [
       "0.05259284420289855"
      ]
     },
     "execution_count": 20,
     "metadata": {},
     "output_type": "execute_result"
    }
   ],
   "source": [
    "svc = SVC(max_iter=10,  verbose=1).fit(X_train, Y_train)\n",
    "\n",
    "Y_pred = svc.predict(X_test)\n",
    "(Y_pred == Y_test).sum()/len(Y_test)"
   ]
  },
  {
   "cell_type": "code",
   "execution_count": 4,
   "metadata": {},
   "outputs": [
    {
     "data": {
      "text/plain": [
       "((41213, 355), (41213, 745), (17664, 355), (17664, 745))"
      ]
     },
     "execution_count": 4,
     "metadata": {},
     "output_type": "execute_result"
    }
   ],
   "source": [
    "X_train.shape, Y_train.shape, X_test.shape, Y_test.shape"
   ]
  },
  {
   "cell_type": "code",
   "execution_count": 14,
   "metadata": {},
   "outputs": [
    {
     "name": "stdout",
     "output_type": "stream",
     "text": [
      "Train on 41213 samples, validate on 17664 samples\n",
      "Epoch 1/20\n",
      "41213/41213 [==============================] - 11s 256us/step - loss: 4.2601 - acc: 0.1960 - val_loss: 3.7361 - val_acc: 0.2305\n",
      "Epoch 2/20\n",
      "41213/41213 [==============================] - 11s 261us/step - loss: 3.6041 - acc: 0.2425 - val_loss: 3.5788 - val_acc: 0.2408\n",
      "Epoch 3/20\n",
      "41213/41213 [==============================] - 11s 273us/step - loss: 3.4816 - acc: 0.2524 - val_loss: 3.5109 - val_acc: 0.2549\n",
      "Epoch 4/20\n",
      "41213/41213 [==============================] - 12s 290us/step - loss: 3.4108 - acc: 0.2591 - val_loss: 3.4692 - val_acc: 0.2580\n",
      "Epoch 5/20\n",
      "41213/41213 [==============================] - 12s 297us/step - loss: 3.3589 - acc: 0.2635 - val_loss: 3.4353 - val_acc: 0.2651\n",
      "Epoch 6/20\n",
      "41213/41213 [==============================] - 11s 277us/step - loss: 3.3135 - acc: 0.2678 - val_loss: 3.3988 - val_acc: 0.2629\n",
      "Epoch 7/20\n",
      "41213/41213 [==============================] - 12s 279us/step - loss: 3.2768 - acc: 0.2734 - val_loss: 3.3779 - val_acc: 0.2706\n",
      "Epoch 8/20\n",
      "41213/41213 [==============================] - 12s 297us/step - loss: 3.2393 - acc: 0.2764 - val_loss: 3.3728 - val_acc: 0.2689\n",
      "Epoch 9/20\n",
      "41213/41213 [==============================] - 11s 277us/step - loss: 3.2079 - acc: 0.2791 - val_loss: 3.3551 - val_acc: 0.2685\n",
      "Epoch 10/20\n",
      "41213/41213 [==============================] - 12s 281us/step - loss: 3.1801 - acc: 0.2811 - val_loss: 3.3589 - val_acc: 0.2657\n",
      "Epoch 11/20\n",
      "41213/41213 [==============================] - 12s 296us/step - loss: 3.1507 - acc: 0.2848 - val_loss: 3.3355 - val_acc: 0.2775\n",
      "Epoch 12/20\n",
      "41213/41213 [==============================] - 12s 288us/step - loss: 3.1239 - acc: 0.2875 - val_loss: 3.3219 - val_acc: 0.2752\n",
      "Epoch 13/20\n",
      "41213/41213 [==============================] - 12s 284us/step - loss: 3.0961 - acc: 0.2908 - val_loss: 3.3187 - val_acc: 0.2758\n",
      "Epoch 14/20\n",
      "41213/41213 [==============================] - 12s 285us/step - loss: 3.0722 - acc: 0.2938 - val_loss: 3.3149 - val_acc: 0.2745\n",
      "Epoch 15/20\n",
      "41213/41213 [==============================] - 12s 283us/step - loss: 3.0455 - acc: 0.2961 - val_loss: 3.3254 - val_acc: 0.2764\n",
      "Epoch 16/20\n",
      "41213/41213 [==============================] - 12s 284us/step - loss: 3.0236 - acc: 0.2985 - val_loss: 3.2978 - val_acc: 0.2728\n",
      "Epoch 17/20\n",
      "41213/41213 [==============================] - 12s 284us/step - loss: 3.0005 - acc: 0.3028 - val_loss: 3.3143 - val_acc: 0.2763\n",
      "Epoch 18/20\n",
      "41213/41213 [==============================] - 12s 291us/step - loss: 2.9771 - acc: 0.3049 - val_loss: 3.3135 - val_acc: 0.2771\n",
      "Epoch 19/20\n",
      "41213/41213 [==============================] - 12s 286us/step - loss: 2.9527 - acc: 0.3089 - val_loss: 3.3097 - val_acc: 0.2773\n",
      "Epoch 20/20\n",
      "41213/41213 [==============================] - 12s 286us/step - loss: 2.9301 - acc: 0.3119 - val_loss: 3.2971 - val_acc: 0.2819\n"
     ]
    },
    {
     "data": {
      "text/plain": [
       "<keras.callbacks.History at 0x7fbafa9a8470>"
      ]
     },
     "execution_count": 14,
     "metadata": {},
     "output_type": "execute_result"
    }
   ],
   "source": [
    "model = Sequential()\n",
    "model.add(Dense(400, input_dim=355, activation='tanh'))\n",
    "model.add(Dense(500, activation='tanh'))\n",
    "model.add(Dense(745, activation='softmax'))\n",
    "\n",
    "model.compile(loss='categorical_crossentropy', optimizer='rmsprop', metrics=['accuracy'])\n",
    "model.fit(X_train, Y_train, epochs=20, batch_size=128,  validation_data=(X_test, Y_test))"
   ]
  },
  {
   "cell_type": "code",
   "execution_count": 15,
   "metadata": {},
   "outputs": [
    {
     "name": "stdout",
     "output_type": "stream",
     "text": [
      "17664/17664 [==============================] - 1s 82us/step\n"
     ]
    },
    {
     "data": {
      "text/plain": [
       "[3.297105251878932, 0.2818727355072464]"
      ]
     },
     "execution_count": 15,
     "metadata": {},
     "output_type": "execute_result"
    }
   ],
   "source": [
    "score = model.evaluate(X_test, Y_test, batch_size=128)\n",
    "score "
   ]
  },
  {
   "cell_type": "code",
   "execution_count": 19,
   "metadata": {},
   "outputs": [],
   "source": [
    "df_train = pd.read_csv('train_data_complaints_repeats_doctors.csv')\n",
    "df_test = pd.read_csv('test_data_complaints_repeats_doctors.csv')\n",
    "\n",
    "diagnoses = np.unique(df_train['Код_диагноза'].values)\n",
    "X = np.load('topics_train_ngramm.npy')\n",
    "Y = [np.where(diagnoses==y)[0][0] for y in df_train['Код_диагноза'].values]\n",
    "\n",
    "Y_bin = np.zeros((len(Y), diagnoses.shape[0]))\n",
    "for y, y_bin in zip(Y, Y_bin): y_bin[y] = 1\n",
    "\n",
    "X_train, X_test, Y_train, Y_test = train_test_split(X, Y_bin, test_size=0.3)"
   ]
  },
  {
   "cell_type": "code",
   "execution_count": 20,
   "metadata": {},
   "outputs": [
    {
     "data": {
      "text/plain": [
       "((43383, 355), (43383, 2302), (18593, 355), (18593, 2302))"
      ]
     },
     "execution_count": 20,
     "metadata": {},
     "output_type": "execute_result"
    }
   ],
   "source": [
    "X_train.shape, Y_train.shape, X_test.shape, Y_test.shape"
   ]
  },
  {
   "cell_type": "code",
   "execution_count": 22,
   "metadata": {},
   "outputs": [
    {
     "name": "stdout",
     "output_type": "stream",
     "text": [
      "Train on 43383 samples, validate on 18593 samples\n",
      "Epoch 1/20\n",
      "43383/43383 [==============================] - 59s 1ms/step - loss: 4.3945 - acc: 0.1947 - val_loss: 4.0544 - val_acc: 0.2119\n",
      "Epoch 2/20\n",
      "43383/43383 [==============================] - 59s 1ms/step - loss: 3.9767 - acc: 0.2207 - val_loss: 3.9762 - val_acc: 0.2226\n",
      "Epoch 3/20\n",
      "43383/43383 [==============================] - 60s 1ms/step - loss: 3.8870 - acc: 0.2307 - val_loss: 4.0234 - val_acc: 0.2363\n",
      "Epoch 4/20\n",
      "43383/43383 [==============================] - 60s 1ms/step - loss: 3.8334 - acc: 0.2362 - val_loss: 3.8687 - val_acc: 0.2369\n",
      "Epoch 5/20\n",
      "43383/43383 [==============================] - 60s 1ms/step - loss: 3.7798 - acc: 0.2386 - val_loss: 3.8578 - val_acc: 0.2425\n",
      "Epoch 6/20\n",
      "43383/43383 [==============================] - 60s 1ms/step - loss: 3.7386 - acc: 0.2409 - val_loss: 3.8569 - val_acc: 0.2457\n",
      "Epoch 7/20\n",
      "43383/43383 [==============================] - 61s 1ms/step - loss: 3.6957 - acc: 0.2441 - val_loss: 3.8740 - val_acc: 0.2432\n",
      "Epoch 8/20\n",
      "43383/43383 [==============================] - 62s 1ms/step - loss: 3.6533 - acc: 0.2466 - val_loss: 3.8338 - val_acc: 0.2446\n",
      "Epoch 9/20\n",
      "43383/43383 [==============================] - 64s 1ms/step - loss: 3.6096 - acc: 0.2527 - val_loss: 3.7997 - val_acc: 0.2436\n",
      "Epoch 10/20\n",
      "43383/43383 [==============================] - 62s 1ms/step - loss: 3.5560 - acc: 0.2555 - val_loss: 3.8296 - val_acc: 0.2498\n",
      "Epoch 11/20\n",
      "43383/43383 [==============================] - 67s 2ms/step - loss: 3.5044 - acc: 0.2591 - val_loss: 3.8159 - val_acc: 0.2447\n",
      "Epoch 12/20\n",
      "43383/43383 [==============================] - 65s 1ms/step - loss: 3.4518 - acc: 0.2636 - val_loss: 3.7907 - val_acc: 0.2441\n",
      "Epoch 13/20\n",
      "43383/43383 [==============================] - 65s 1ms/step - loss: 3.3882 - acc: 0.2723 - val_loss: 3.8111 - val_acc: 0.2474\n",
      "Epoch 14/20\n",
      "43383/43383 [==============================] - 61s 1ms/step - loss: 3.3250 - acc: 0.2752 - val_loss: 3.7855 - val_acc: 0.2421\n",
      "Epoch 15/20\n",
      "43383/43383 [==============================] - 71s 2ms/step - loss: 3.2628 - acc: 0.2842 - val_loss: 3.7925 - val_acc: 0.2568\n",
      "Epoch 16/20\n",
      "43383/43383 [==============================] - 67s 2ms/step - loss: 3.2116 - acc: 0.2936 - val_loss: 3.8088 - val_acc: 0.2586\n",
      "Epoch 17/20\n",
      "43383/43383 [==============================] - 65s 2ms/step - loss: 3.1578 - acc: 0.3037 - val_loss: 3.8277 - val_acc: 0.2564\n",
      "Epoch 18/20\n",
      "43383/43383 [==============================] - 65s 1ms/step - loss: 3.1090 - acc: 0.3148 - val_loss: 3.8313 - val_acc: 0.2471\n",
      "Epoch 19/20\n",
      "43383/43383 [==============================] - 65s 1ms/step - loss: 3.0566 - acc: 0.3240 - val_loss: 3.8491 - val_acc: 0.2506\n",
      "Epoch 20/20\n",
      "43383/43383 [==============================] - 64s 1ms/step - loss: 3.0007 - acc: 0.3376 - val_loss: 3.9039 - val_acc: 0.2518\n"
     ]
    },
    {
     "data": {
      "text/plain": [
       "<keras.callbacks.History at 0x7fbaf7641198>"
      ]
     },
     "execution_count": 22,
     "metadata": {},
     "output_type": "execute_result"
    }
   ],
   "source": [
    "model = Sequential()\n",
    "model.add(Dense(500, input_dim=355, activation='tanh'))\n",
    "model.add(Dense(1000, activation='tanh'))\n",
    "model.add(Dense(1500, activation='tanh'))\n",
    "model.add(Dense(2302, activation='softmax'))\n",
    "\n",
    "model.compile(loss='categorical_crossentropy', optimizer='rmsprop', metrics=['accuracy'])\n",
    "model.fit(X_train, Y_train, epochs=20, batch_size=128,  validation_data=(X_test, Y_test))"
   ]
  },
  {
   "cell_type": "code",
   "execution_count": 23,
   "metadata": {
    "collapsed": true
   },
   "outputs": [],
   "source": [
    "X_test = np.load('topics_test_ngramm.npy')\n",
    "Y_pred = model.predict(X_test)"
   ]
  },
  {
   "cell_type": "code",
   "execution_count": 26,
   "metadata": {
    "collapsed": true
   },
   "outputs": [],
   "source": [
    "Y_diag = [diagnoses[y.argmax()] for y in Y_pred]"
   ]
  },
  {
   "cell_type": "code",
   "execution_count": 29,
   "metadata": {
    "collapsed": true
   },
   "outputs": [],
   "source": [
    "df_test = pd.read_csv('test_data_complaints_repeats_doctors.csv')"
   ]
  },
  {
   "cell_type": "code",
   "execution_count": 47,
   "metadata": {},
   "outputs": [],
   "source": [
    "df_sub = pd.DataFrame(dict([('Id_Записи', df_test['Id_Записи'].values), ('Код_диагноза', Y_diag)]))"
   ]
  },
  {
   "cell_type": "code",
   "execution_count": 51,
   "metadata": {
    "collapsed": true
   },
   "outputs": [],
   "source": [
    "df_sub[['Id_Записи', 'Код_диагноза']].to_csv('sub_aa.csv', index=False)"
   ]
  }
 ],
 "metadata": {
  "kernelspec": {
   "display_name": "Python 3",
   "language": "python",
   "name": "python3"
  },
  "language_info": {
   "codemirror_mode": {
    "name": "ipython",
    "version": 3
   },
   "file_extension": ".py",
   "mimetype": "text/x-python",
   "name": "python",
   "nbconvert_exporter": "python",
   "pygments_lexer": "ipython3",
   "version": "3.6.3"
  }
 },
 "nbformat": 4,
 "nbformat_minor": 2
}
