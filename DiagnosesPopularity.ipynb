{
 "cells": [
  {
   "cell_type": "code",
   "execution_count": 59,
   "metadata": {
    "collapsed": true
   },
   "outputs": [],
   "source": [
    "import pandas as pd\n",
    "import numpy as np\n",
    "\n",
    "import matplotlib.pyplot as plt\n",
    "\n",
    "%matplotlib inline"
   ]
  },
  {
   "cell_type": "code",
   "execution_count": 60,
   "metadata": {},
   "outputs": [],
   "source": [
    "train = pd.read_csv('data/train_data.csv', ';')"
   ]
  },
  {
   "cell_type": "code",
   "execution_count": 61,
   "metadata": {},
   "outputs": [
    {
     "data": {
      "text/html": [
       "<div>\n",
       "<style>\n",
       "    .dataframe thead tr:only-child th {\n",
       "        text-align: right;\n",
       "    }\n",
       "\n",
       "    .dataframe thead th {\n",
       "        text-align: left;\n",
       "    }\n",
       "\n",
       "    .dataframe tbody tr th {\n",
       "        vertical-align: top;\n",
       "    }\n",
       "</style>\n",
       "<table border=\"1\" class=\"dataframe\">\n",
       "  <thead>\n",
       "    <tr style=\"text-align: right;\">\n",
       "      <th></th>\n",
       "      <th>Id_Записи</th>\n",
       "      <th>Id_Пациента</th>\n",
       "      <th>Возраст</th>\n",
       "      <th>Диагноз</th>\n",
       "      <th>Жалобы</th>\n",
       "      <th>Источник_рекламы</th>\n",
       "      <th>Клиника</th>\n",
       "      <th>Код_диагноза</th>\n",
       "      <th>Пол</th>\n",
       "      <th>Услуга</th>\n",
       "    </tr>\n",
       "  </thead>\n",
       "  <tbody>\n",
       "    <tr>\n",
       "      <th>0</th>\n",
       "      <td>0</td>\n",
       "      <td>115819</td>\n",
       "      <td>54</td>\n",
       "      <td>Гипертензивная болезнь сердца [гипертоническая...</td>\n",
       "      <td>на повышение ад утром до 140/90 мм.рт.ст., пер...</td>\n",
       "      <td>Другое</td>\n",
       "      <td>5</td>\n",
       "      <td>I11</td>\n",
       "      <td>2</td>\n",
       "      <td>Прием врача-кардиолога  повторный, амбулаторный</td>\n",
       "    </tr>\n",
       "    <tr>\n",
       "      <th>1</th>\n",
       "      <td>1</td>\n",
       "      <td>399973</td>\n",
       "      <td>32</td>\n",
       "      <td>Доброкачественное новообразование молочной железы</td>\n",
       "      <td>На наличие опухоли в левой молочной железе</td>\n",
       "      <td>Другое</td>\n",
       "      <td>3</td>\n",
       "      <td>D24</td>\n",
       "      <td>2</td>\n",
       "      <td>Прием врача-онколога (маммолога), повторный, а...</td>\n",
       "    </tr>\n",
       "    <tr>\n",
       "      <th>2</th>\n",
       "      <td>2</td>\n",
       "      <td>427563</td>\n",
       "      <td>72</td>\n",
       "      <td>Простой хронический бронхит</td>\n",
       "      <td>Активных жалоб нет.</td>\n",
       "      <td>Интернет</td>\n",
       "      <td>6</td>\n",
       "      <td>J41.0</td>\n",
       "      <td>2</td>\n",
       "      <td>Прием первичный врача-пульмонолога</td>\n",
       "    </tr>\n",
       "    <tr>\n",
       "      <th>3</th>\n",
       "      <td>3</td>\n",
       "      <td>257197</td>\n",
       "      <td>55</td>\n",
       "      <td>Другая дорсалгия</td>\n",
       "      <td>на сохраняющиеся боли в спине и пояснице, сков...</td>\n",
       "      <td>Другое</td>\n",
       "      <td>3</td>\n",
       "      <td>M54.8</td>\n",
       "      <td>1</td>\n",
       "      <td>Прием врача-невролога  повторный, амбулаторный</td>\n",
       "    </tr>\n",
       "    <tr>\n",
       "      <th>4</th>\n",
       "      <td>4</td>\n",
       "      <td>281066</td>\n",
       "      <td>28</td>\n",
       "      <td>Острый фарингит</td>\n",
       "      <td>на дискомфорт в горле, слабое першение, слабость</td>\n",
       "      <td>Другое</td>\n",
       "      <td>3</td>\n",
       "      <td>J02</td>\n",
       "      <td>2</td>\n",
       "      <td>Прием врача-оториноларинголога повторный, амбу...</td>\n",
       "    </tr>\n",
       "  </tbody>\n",
       "</table>\n",
       "</div>"
      ],
      "text/plain": [
       "   Id_Записи  Id_Пациента  Возраст  \\\n",
       "0          0       115819       54   \n",
       "1          1       399973       32   \n",
       "2          2       427563       72   \n",
       "3          3       257197       55   \n",
       "4          4       281066       28   \n",
       "\n",
       "                                             Диагноз  \\\n",
       "0  Гипертензивная болезнь сердца [гипертоническая...   \n",
       "1  Доброкачественное новообразование молочной железы   \n",
       "2                        Простой хронический бронхит   \n",
       "3                                   Другая дорсалгия   \n",
       "4                                    Острый фарингит   \n",
       "\n",
       "                                              Жалобы Источник_рекламы  \\\n",
       "0  на повышение ад утром до 140/90 мм.рт.ст., пер...           Другое   \n",
       "1         На наличие опухоли в левой молочной железе           Другое   \n",
       "2                                Активных жалоб нет.         Интернет   \n",
       "3  на сохраняющиеся боли в спине и пояснице, сков...           Другое   \n",
       "4   на дискомфорт в горле, слабое першение, слабость           Другое   \n",
       "\n",
       "   Клиника Код_диагноза  Пол  \\\n",
       "0        5          I11    2   \n",
       "1        3          D24    2   \n",
       "2        6        J41.0    2   \n",
       "3        3        M54.8    1   \n",
       "4        3          J02    2   \n",
       "\n",
       "                                              Услуга  \n",
       "0    Прием врача-кардиолога  повторный, амбулаторный  \n",
       "1  Прием врача-онколога (маммолога), повторный, а...  \n",
       "2                 Прием первичный врача-пульмонолога  \n",
       "3     Прием врача-невролога  повторный, амбулаторный  \n",
       "4  Прием врача-оториноларинголога повторный, амбу...  "
      ]
     },
     "execution_count": 61,
     "metadata": {},
     "output_type": "execute_result"
    }
   ],
   "source": [
    "train.head()"
   ]
  },
  {
   "cell_type": "code",
   "execution_count": 65,
   "metadata": {
    "collapsed": true
   },
   "outputs": [],
   "source": [
    "def get_most_popular_diagnoses(data, percent=95):\n",
    "    diagnoses = list(np.sort(np.unique(data['Код_диагноза'])))\n",
    "    diag_to_num = dict(zip(diagnoses, range(len(diagnoses))))\n",
    "    num_to_diag = dict(zip(range(len(diagnoses)), diagnoses))\n",
    "    \n",
    "    data = data.copy()\n",
    "    data['diag_idx'] = data['Код_диагноза'].apply(lambda code: diag_to_num[code])\n",
    "    diag_idxs, counts = np.unique(data['diag_idx'], return_counts=True)\n",
    "    sorted_idxs = np.argsort(counts)[::-1]\n",
    "    \n",
    "    popular_idxs = diag_idxs[counts >= np.percentile(counts, q=percent)]\n",
    "    popular_diagnoses = list(map(lambda idx: num_to_diag[idx], popular_idxs))\n",
    "    \n",
    "    return popular_diagnoses"
   ]
  },
  {
   "cell_type": "code",
   "execution_count": 72,
   "metadata": {},
   "outputs": [
    {
     "name": "stdout",
     "output_type": "stream",
     "text": [
      "['B07', 'B37.3+', 'D23', 'D23.9', 'D25', 'E03.8', 'E04.1', 'E04.2', 'E06.3', 'E11', 'E28', 'E66.0', 'F45.3', 'G44.2', 'G90', 'G90.8', 'H35.0', 'H52.1', 'H52.2', 'H60', 'H61.2', 'I10', 'I11', 'I11.9', 'I20.8', 'I34.1', 'I67.2', 'I67.8', 'I83.9', 'J00', 'J01.0', 'J04.1', 'J06.9', 'J18', 'J20.9', 'J30', 'J30.3', 'J31.0', 'J31.1', 'J31.2', 'J35.0', 'J35.8', 'K21', 'K21.0', 'K29.3', 'K29.5', 'K29.9', 'K30', 'K52.9', 'K58', 'K83.9', 'K86.1', 'K87*', 'L02.2', 'L02.4', 'L08.0', 'L20', 'L21', 'L30.2', 'L30.8', 'L70.0', 'L71.0', 'M15-M19', 'M15.8', 'M21.4', 'M23.2', 'M41', 'M42', 'M42.1', 'M43.9', 'M47', 'M51', 'M51.1', 'M51.2', 'M51.3', 'M51.8', 'M53.0', 'M53.1', 'M53.8', 'M53.9', 'M54', 'M54.2', 'M54.4', 'M54.5', 'M54.6', 'M54.8', 'M54.9', 'M65', 'M79.1', 'M79.6', 'N20.0', 'N30.0', 'N30.2', 'N40', 'N41.1', 'N48.1', 'N60.1', 'N72', 'N76.0', 'N76.1', 'N77.1*', 'N80.0', 'N83.0', 'N84.0', 'N86', 'N95.2', 'Z00', 'Z00.0', 'Z00.8', 'Z01', 'Z01.4', 'Z01.8', 'Z32.1', 'Z34.0', 'Z34.8', 'Z35.8']\n",
      "Count: 116\n"
     ]
    }
   ],
   "source": [
    "popular_diagnsoes = get_most_popular_diagnoses(train, 95)\n",
    "print(popular_diagnoses)\n",
    "print('Count: {}'.format(len(popular_diagnoses)))"
   ]
  },
  {
   "cell_type": "code",
   "execution_count": 29,
   "metadata": {},
   "outputs": [
    {
     "data": {
      "image/png": "[encoded data removed]",
      "text/plain": [
       "<matplotlib.figure.Figure at 0x7f1095184a20>"
      ]
     },
     "metadata": {},
     "output_type": "display_data"
    }
   ],
   "source": [
    "plt.hist(train['diag_idx'], bins=50);"
   ]
  }
 ],
 "metadata": {
  "kernelspec": {
   "display_name": "Python 3",
   "language": "python",
   "name": "python3"
  },
  "language_info": {
   "codemirror_mode": {
    "name": "ipython",
    "version": 3
   },
   "file_extension": ".py",
   "mimetype": "text/x-python",
   "name": "python",
   "nbconvert_exporter": "python",
   "pygments_lexer": "ipython3",
   "version": "3.6.4"
  }
 },
 "nbformat": 4,
 "nbformat_minor": 2
}
