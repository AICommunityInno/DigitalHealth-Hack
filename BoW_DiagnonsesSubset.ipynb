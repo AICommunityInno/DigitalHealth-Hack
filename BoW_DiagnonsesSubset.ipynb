{
 "cells": [
  {
   "cell_type": "code",
   "execution_count": 1,
   "metadata": {},
   "outputs": [
    {
     "name": "stderr",
     "output_type": "stream",
     "text": [
      "/root/anaconda3/lib/python3.6/site-packages/h5py/__init__.py:36: FutureWarning: Conversion of the second argument of issubdtype from `float` to `np.floating` is deprecated. In future, it will be treated as `np.float64 == np.dtype(float).type`.\n",
      "  from ._conv import register_converters as _register_converters\n",
      "Using TensorFlow backend.\n"
     ]
    }
   ],
   "source": [
    "import utils\n",
    "\n",
    "import nltk\n",
    "from nltk.corpus import stopwords\n",
    "\n",
    "from sklearn.feature_extraction.text import CountVectorizer\n",
    "from sklearn.feature_extraction.text import TfidfVectorizer\n",
    "from sklearn.pipeline import Pipeline, FeatureUnion\n",
    "from sklearn.base import BaseEstimator, TransformerMixin\n",
    "from sklearn.svm import SVC\n",
    "from sklearn.ensemble import RandomForestClassifier\n",
    "from sklearn.model_selection import train_test_split\n",
    "from sklearn.metrics import jaccard_similarity_score\n",
    "\n",
    "import pandas as pd\n",
    "import numpy as np\n",
    "from scipy.sparse import csr_matrix\n",
    "import scipy"
   ]
  },
  {
   "cell_type": "code",
   "execution_count": 2,
   "metadata": {},
   "outputs": [],
   "source": [
    "train = utils.load_data('data/train_data_complaints_repeats_doctors.csv')"
   ]
  },
  {
   "cell_type": "code",
   "execution_count": 3,
   "metadata": {},
   "outputs": [
    {
     "data": {
      "text/html": [
       "<div>\n",
       "<style scoped>\n",
       "    .dataframe tbody tr th:only-of-type {\n",
       "        vertical-align: middle;\n",
       "    }\n",
       "\n",
       "    .dataframe tbody tr th {\n",
       "        vertical-align: top;\n",
       "    }\n",
       "\n",
       "    .dataframe thead th {\n",
       "        text-align: right;\n",
       "    }\n",
       "</style>\n",
       "<table border=\"1\" class=\"dataframe\">\n",
       "  <thead>\n",
       "    <tr style=\"text-align: right;\">\n",
       "      <th></th>\n",
       "      <th>Unnamed: 0</th>\n",
       "      <th>Id_Записи</th>\n",
       "      <th>Id_Пациента</th>\n",
       "      <th>Возраст</th>\n",
       "      <th>Диагноз</th>\n",
       "      <th>Жалобы</th>\n",
       "      <th>Источник_рекламы</th>\n",
       "      <th>Клиника</th>\n",
       "      <th>Код_диагноза</th>\n",
       "      <th>Пол</th>\n",
       "      <th>Услуга</th>\n",
       "      <th>Жалобы (ngramm)</th>\n",
       "      <th>Жалобы (unigramm)</th>\n",
       "      <th>Врач</th>\n",
       "      <th>Повторный приём</th>\n",
       "    </tr>\n",
       "  </thead>\n",
       "  <tbody>\n",
       "    <tr>\n",
       "      <th>0</th>\n",
       "      <td>0</td>\n",
       "      <td>0</td>\n",
       "      <td>115819</td>\n",
       "      <td>54</td>\n",
       "      <td>Гипертензивная болезнь сердца [гипертоническая...</td>\n",
       "      <td>на повышение ад утром до 140/90 мм.рт.ст., пер...</td>\n",
       "      <td>Другое</td>\n",
       "      <td>5</td>\n",
       "      <td>I11</td>\n",
       "      <td>2</td>\n",
       "      <td>Прием врача-кардиолога  повторный, амбулаторный</td>\n",
       "      <td>повышение_ада</td>\n",
       "      <td>повышение ада утром мм рт ст периодич головокр...</td>\n",
       "      <td>кардиолог</td>\n",
       "      <td>1</td>\n",
       "    </tr>\n",
       "    <tr>\n",
       "      <th>1</th>\n",
       "      <td>1</td>\n",
       "      <td>1</td>\n",
       "      <td>399973</td>\n",
       "      <td>32</td>\n",
       "      <td>Доброкачественное новообразование молочной железы</td>\n",
       "      <td>На наличие опухоли в левой молочной железе</td>\n",
       "      <td>Другое</td>\n",
       "      <td>3</td>\n",
       "      <td>D24</td>\n",
       "      <td>2</td>\n",
       "      <td>Прием врача-онколога (маммолога), повторный, а...</td>\n",
       "      <td>наличие_опухоль левый_молочный_железо</td>\n",
       "      <td>наличие опухоль левый молочный железо</td>\n",
       "      <td>маммолог онколог</td>\n",
       "      <td>1</td>\n",
       "    </tr>\n",
       "    <tr>\n",
       "      <th>2</th>\n",
       "      <td>2</td>\n",
       "      <td>2</td>\n",
       "      <td>427563</td>\n",
       "      <td>72</td>\n",
       "      <td>Простой хронический бронхит</td>\n",
       "      <td>Активных жалоб нет.</td>\n",
       "      <td>Интернет</td>\n",
       "      <td>6</td>\n",
       "      <td>J41.0</td>\n",
       "      <td>2</td>\n",
       "      <td>Прием первичный врача-пульмонолога</td>\n",
       "      <td>активный_жалоба</td>\n",
       "      <td>активный жалоба</td>\n",
       "      <td>пульмонолог</td>\n",
       "      <td>0</td>\n",
       "    </tr>\n",
       "  </tbody>\n",
       "</table>\n",
       "</div>"
      ],
      "text/plain": [
       "   Unnamed: 0  Id_Записи  Id_Пациента  Возраст  \\\n",
       "0           0          0       115819       54   \n",
       "1           1          1       399973       32   \n",
       "2           2          2       427563       72   \n",
       "\n",
       "                                             Диагноз  \\\n",
       "0  Гипертензивная болезнь сердца [гипертоническая...   \n",
       "1  Доброкачественное новообразование молочной железы   \n",
       "2                        Простой хронический бронхит   \n",
       "\n",
       "                                              Жалобы Источник_рекламы  \\\n",
       "0  на повышение ад утром до 140/90 мм.рт.ст., пер...           Другое   \n",
       "1         На наличие опухоли в левой молочной железе           Другое   \n",
       "2                                Активных жалоб нет.         Интернет   \n",
       "\n",
       "   Клиника Код_диагноза  Пол  \\\n",
       "0        5          I11    2   \n",
       "1        3          D24    2   \n",
       "2        6        J41.0    2   \n",
       "\n",
       "                                              Услуга  \\\n",
       "0    Прием врача-кардиолога  повторный, амбулаторный   \n",
       "1  Прием врача-онколога (маммолога), повторный, а...   \n",
       "2                 Прием первичный врача-пульмонолога   \n",
       "\n",
       "                         Жалобы (ngramm)  \\\n",
       "0                          повышение_ада   \n",
       "1  наличие_опухоль левый_молочный_железо   \n",
       "2                        активный_жалоба   \n",
       "\n",
       "                                   Жалобы (unigramm)              Врач  \\\n",
       "0  повышение ада утром мм рт ст периодич головокр...         кардиолог   \n",
       "1              наличие опухоль левый молочный железо  маммолог онколог   \n",
       "2                                    активный жалоба       пульмонолог   \n",
       "\n",
       "   Повторный приём  \n",
       "0                1  \n",
       "1                1  \n",
       "2                0  "
      ]
     },
     "execution_count": 3,
     "metadata": {},
     "output_type": "execute_result"
    }
   ],
   "source": [
    "train.head(3)"
   ]
  },
  {
   "cell_type": "code",
   "execution_count": 4,
   "metadata": {},
   "outputs": [],
   "source": [
    "class ItemSelector(BaseEstimator, TransformerMixin):\n",
    "    def __init__(self, key):\n",
    "        self.key = key\n",
    "\n",
    "    def fit(self, x, y=None):\n",
    "        return self\n",
    "\n",
    "    def transform(self, data_dict):\n",
    "        return data_dict[self.key]\n",
    "\n",
    "class DoctorsPopularityTransformator(BaseEstimator, TransformerMixin):\n",
    "    def fit(self, x, y=None):\n",
    "        doctors = x.fillna('sss')\n",
    "        doctors_voc, counts = np.unique(doctors, return_counts=True)\n",
    "        self.pop_doctor = doctors_voc[np.argsort(counts)[::-1][0]]\n",
    "        \n",
    "        return self\n",
    "\n",
    "    def transform(self, x):\n",
    "        x = x.fillna('sss')\n",
    "        x[x == 'sss'] = self.pop_doctor\n",
    "        \n",
    "        return x\n",
    "    \n",
    "class GenderTransformator(BaseEstimator, TransformerMixin):\n",
    "    def fit(self, x, y=None):\n",
    "        return self\n",
    "    \n",
    "    def transform(self, x):\n",
    "        x = x.copy()\n",
    "        x[x == 1] = 0\n",
    "        x[x == 2] = 1\n",
    "        \n",
    "        return np.expand_dims(x, axis=1)\n",
    "    \n",
    "class AgeTransformator(BaseEstimator, TransformerMixin):\n",
    "    def fit(self, x, y=None):\n",
    "        return self\n",
    "    \n",
    "    def transform(self, x):\n",
    "        return np.expand_dims(x, axis=1)\n",
    "    \n",
    "class TopicsTransformator(BaseEstimator, TransformerMixin):\n",
    "    def fit(self, x, y=None):\n",
    "        return self\n",
    "    \n",
    "    def transform(self, x):\n",
    "        return x\n",
    "\n",
    "class ClinicTransformator(BaseEstimator, TransformerMixin):\n",
    "    def fit(self, x, y=None):\n",
    "        clinics, counts = np.unique(x, return_counts=True)\n",
    "        self.clinics_to_idx = dict(zip(clinics, range(len(clinics))))\n",
    "        \n",
    "        self.most_pop_clinic_idx = np.argmax(counts)\n",
    "        \n",
    "        return self\n",
    "    \n",
    "    def transform(self, x):\n",
    "        x_vec = np.zeros((x.shape[0], len(self.clinics_to_idx)), dtype=np.float32)\n",
    "        for i, clinic in enumerate(x):\n",
    "            if clinic in self.clinics_to_idx:\n",
    "                x_vec[i, self.clinics_to_idx[clinic]] = 1.\n",
    "            else:\n",
    "                x_vec[i, self.most_pop_clinic_idx] = 1.\n",
    "        \n",
    "        return x_vec\n",
    "    \n",
    "class RepeatsTransformator(BaseEstimator, TransformerMixin):\n",
    "    def fit(self, x, y=None):\n",
    "        return self\n",
    "    \n",
    "    def transform(self, x):\n",
    "        return np.expand_dims(x, axis=1)"
   ]
  },
  {
   "cell_type": "code",
   "execution_count": 5,
   "metadata": {},
   "outputs": [],
   "source": [
    "def preproc_target_train(data, reduce_classes=False):\n",
    "    diagnoses = data['Код_диагноза'].copy()\n",
    "    \n",
    "    if reduce_classes:\n",
    "        pop_diagnoses = set(utils.get_most_popular_diagnoses(diagnoses, percent=.80))\n",
    "        most_pop_diagnose = scipy.stats.mode(diagnoses)[0][0]\n",
    "    else:\n",
    "        pop_diagnoses = set(diagnoses)\n",
    "        most_pop_diagnose = scipy.stats.mode(diagnoses)[0][0]\n",
    "    \n",
    "    diagnoses = diagnoses.apply(\n",
    "        lambda diag: diag if diag in pop_diagnoses else most_pop_diagnose\n",
    "    )\n",
    "    \n",
    "    return diagnoses, pop_diagnoses, most_pop_diagnose\n",
    "\n",
    "def preproc_target_test(data, pop_diagnoses, most_pop_diagnose):\n",
    "    diagnoses = data['Код_диагноза'].copy()\n",
    "    \n",
    "    diagnoses = diagnoses.apply(\n",
    "        lambda diag: diag if diag in pop_diagnoses else most_pop_diagnose\n",
    "    )\n",
    "    \n",
    "    return diagnoses, pop_diagnoses, most_pop_diagnose"
   ]
  },
  {
   "cell_type": "code",
   "execution_count": 11,
   "metadata": {},
   "outputs": [],
   "source": [
    "pipe = Pipeline([\n",
    "    ('union', FeatureUnion(\n",
    "        transformer_list = [\n",
    "            ('complaints_pipe', Pipeline([\n",
    "                ('complaint_selector', ItemSelector(key='Жалобы (unigramm)')),\n",
    "                ('tfidf', TfidfVectorizer(ngram_range=(1,1), min_df=10, stop_words=stopwords.words('russian')))\n",
    "            ])),\n",
    "            ('complaints_n_pipe', Pipeline([\n",
    "                ('complaint_n_selector', ItemSelector(key='Жалобы (ngramm)')),\n",
    "                ('tfidf', TfidfVectorizer(ngram_range=(1,1), min_df=1, stop_words=stopwords.words('russian')))\n",
    "            ])),\n",
    "            ('doctor_pipe', Pipeline([\n",
    "                ('doctor_selector', ItemSelector(key='Врач')),\n",
    "                ('doc_pop', DoctorsPopularityTransformator()),\n",
    "                ('count_vect', CountVectorizer())\n",
    "            ])),\n",
    "            ('gender_pipe', Pipeline([\n",
    "                ('gender_selector', ItemSelector(key='Пол')),\n",
    "                ('gender_transform', GenderTransformator())\n",
    "            ])),\n",
    "            ('age_pipe', Pipeline([\n",
    "                ('age_selector', ItemSelector(key='Возраст')),\n",
    "                ('age_transformator', AgeTransformator())\n",
    "            ])),\n",
    "            ('topics_pipe', Pipeline([\n",
    "                ('topic_selector', ItemSelector(key=['topic' + str(i) for i in range(355)])),\n",
    "                ('topics_transform', TopicsTransformator())\n",
    "            ])),\n",
    "            ('clinic_pipe', Pipeline([\n",
    "                ('clinic_selector', ItemSelector(key='Клиника')),\n",
    "                ('clinic_transform', ClinicTransformator())\n",
    "            ])),\n",
    "            ('repeats_pipe', Pipeline([\n",
    "                ('repeats_selector', ItemSelector(key='Повторный приём')),\n",
    "                ('repeats_transform', RepeatsTransformator())\n",
    "            ]))\n",
    "        ]\n",
    "    )),\n",
    "    ('clf', RandomForestClassifier(n_estimators=1000, n_jobs=-1, max_depth=20))\n",
    "])"
   ]
  },
  {
   "cell_type": "code",
   "execution_count": 12,
   "metadata": {},
   "outputs": [],
   "source": [
    "train = utils.load_data('data/train_data_complaints_repeats_doctors.csv')\n",
    "train_topics = np.load('data/topics_train_ngramm.npy')\n",
    "train = utils.join_topics(train, train_topics)\n",
    "train, valid = train_test_split(train, test_size=0.3)"
   ]
  },
  {
   "cell_type": "code",
   "execution_count": 13,
   "metadata": {},
   "outputs": [
    {
     "name": "stderr",
     "output_type": "stream",
     "text": [
      "/root/anaconda3/lib/python3.6/site-packages/scipy/stats/stats.py:245: RuntimeWarning: The input array could not be properly checked for nan values. nan values will be ignored.\n",
      "  \"values. nan values will be ignored.\", RuntimeWarning)\n"
     ]
    }
   ],
   "source": [
    "train_y, pop_diagnoses, most_pop_diagnose = preproc_target_train(train, reduce_classes=True)\n",
    "valid_y, _, _ = preproc_target_test(valid, pop_diagnoses, most_pop_diagnose)"
   ]
  },
  {
   "cell_type": "code",
   "execution_count": 14,
   "metadata": {},
   "outputs": [
    {
     "data": {
      "text/plain": [
       "(198,)"
      ]
     },
     "execution_count": 14,
     "metadata": {},
     "output_type": "execute_result"
    }
   ],
   "source": [
    "np.unique(train_y).shape"
   ]
  },
  {
   "cell_type": "code",
   "execution_count": 15,
   "metadata": {},
   "outputs": [
    {
     "data": {
      "text/plain": [
       "Pipeline(memory=None,\n",
       "     steps=[('union', FeatureUnion(n_jobs=1,\n",
       "       transformer_list=[('complaints_pipe', Pipeline(memory=None,\n",
       "     steps=[('complaint_selector', ItemSelector(key='Жалобы (unigramm)')), ('tfidf', TfidfVectorizer(analyzer='word', binary=False, decode_error='strict',\n",
       "        dtype=<class 'numpy.int64'>, e..._jobs=-1,\n",
       "            oob_score=False, random_state=None, verbose=0,\n",
       "            warm_start=False))])"
      ]
     },
     "execution_count": 15,
     "metadata": {},
     "output_type": "execute_result"
    }
   ],
   "source": [
    "pipe.fit(train, train_y)"
   ]
  },
  {
   "cell_type": "code",
   "execution_count": 16,
   "metadata": {},
   "outputs": [],
   "source": [
    "# len(pipe.steps[-2][-1].transformer_list[1][1].steps[1][1].vocabulary_)"
   ]
  },
  {
   "cell_type": "code",
   "execution_count": 17,
   "metadata": {},
   "outputs": [],
   "source": [
    "pred = pipe.predict(valid)"
   ]
  },
  {
   "cell_type": "code",
   "execution_count": 18,
   "metadata": {},
   "outputs": [
    {
     "data": {
      "text/plain": [
       "0.3459904265045985"
      ]
     },
     "execution_count": 18,
     "metadata": {},
     "output_type": "execute_result"
    }
   ],
   "source": [
    "jaccard_similarity_score(np.array(valid_y), pred)"
   ]
  },
  {
   "cell_type": "code",
   "execution_count": 19,
   "metadata": {},
   "outputs": [
    {
     "data": {
      "text/plain": [
       "(array(['B07', 'B37.3+', 'B97.7', 'D23.9', 'D24', 'E03.8', 'E04.1',\n",
       "        'E04.2', 'E89.0', 'F45.3', 'G90', 'G90.9', 'G93.4', 'H35.0',\n",
       "        'H52.1', 'H52.2', 'H65', 'I10', 'I11', 'I25.1', 'I34.1', 'I67.4',\n",
       "        'I83.9', 'I84.3', 'I84.5', 'J00', 'J01', 'J01.0', 'J01.8', 'J06.9',\n",
       "        'J18', 'J30', 'J30.1', 'J30.3', 'J31.0', 'J31.1', 'J31.2', 'J34.2',\n",
       "        'J35.0', 'J35.8', 'K21.0', 'K29.5', 'K29.9', 'K30', 'K86.1',\n",
       "        'L02.0', 'L02.2', 'L02.4', 'L21', 'L30.8', 'L60.0', 'M15-M19',\n",
       "        'M41', 'M42', 'M42.1', 'M43.9', 'M50', 'M51', 'M51.3', 'M51.8',\n",
       "        'M53.1', 'M53.8', 'M53.9', 'M54', 'M54.2', 'M54.4', 'M54.5',\n",
       "        'M54.6', 'M54.8', 'M54.9', 'M65', 'M71.8', 'M79.1', 'M79.6',\n",
       "        'M81.0', 'N40', 'N41.1', 'N60.1', 'N72', 'N76.0', 'N76.1',\n",
       "        'N77.1*', 'N83.0', 'N86', 'N88.0', 'N95.2', 'Z00.0', 'Z00.8',\n",
       "        'Z01.0', 'Z01.4', 'Z01.8', 'Z04.8', 'Z32.1', 'Z34', 'Z34.0',\n",
       "        'Z34.8'], dtype=object),\n",
       " array([   35,    20,     1,    52,     3,     1,     2,    35,     1,\n",
       "            6,     3,     3,     2,     8,   143,     1,     1,     3,\n",
       "          207,     1,     1,     1,    44,     1,     2,   212,     1,\n",
       "          122,    13, 13407,     3,     1,    12,    32,     7,    17,\n",
       "            1,     4,   268,    21,     2,    17,    15,   368,     8,\n",
       "            2,    14,     1,     5,     5,     1,     2,     9,     2,\n",
       "         1161,     1,     4,    81,     4,    74,     1,     3,     1,\n",
       "            2,    18,    38,    51,     2,     6,     8,    62,     2,\n",
       "            2,     1,     1,     5,   132,   244,    23,   686,    51,\n",
       "           80,     1,     1,     1,     1,    12,    14,    11,     8,\n",
       "          177,     5,   396,     5,    58,    10]))"
      ]
     },
     "execution_count": 19,
     "metadata": {},
     "output_type": "execute_result"
    }
   ],
   "source": [
    "np.unique(pred, return_counts=True)"
   ]
  },
  {
   "cell_type": "markdown",
   "metadata": {},
   "source": [
    "## Submit"
   ]
  },
  {
   "cell_type": "code",
   "execution_count": 28,
   "metadata": {},
   "outputs": [
    {
     "name": "stderr",
     "output_type": "stream",
     "text": [
      "/root/anaconda3/lib/python3.6/site-packages/scipy/stats/stats.py:245: RuntimeWarning: The input array could not be properly checked for nan values. nan values will be ignored.\n",
      "  \"values. nan values will be ignored.\", RuntimeWarning)\n"
     ]
    }
   ],
   "source": [
    "train = utils.load_data('data/train_data_complaints_repeats_doctors.csv')\n",
    "train_topics = np.load('data/topics_train_ngramm.npy')\n",
    "train = utils.join_topics(train, train_topics)\n",
    "train_y, pop_diagnoses, most_pop_diagnose = preproc_target_train(train, reduce_classes=True)"
   ]
  },
  {
   "cell_type": "code",
   "execution_count": 29,
   "metadata": {},
   "outputs": [
    {
     "data": {
      "text/plain": [
       "Pipeline(memory=None,\n",
       "     steps=[('union', FeatureUnion(n_jobs=1,\n",
       "       transformer_list=[('complaints_pipe', Pipeline(memory=None,\n",
       "     steps=[('complaint_selector', ItemSelector(key='Жалобы (unigramm)')), ('tfidf', TfidfVectorizer(analyzer='word', binary=False, decode_error='strict',\n",
       "        dtype=<class 'numpy.int64'>, e..._jobs=-1,\n",
       "            oob_score=False, random_state=None, verbose=0,\n",
       "            warm_start=False))])"
      ]
     },
     "execution_count": 29,
     "metadata": {},
     "output_type": "execute_result"
    }
   ],
   "source": [
    "pipe.fit(train, train_y)"
   ]
  },
  {
   "cell_type": "code",
   "execution_count": 30,
   "metadata": {},
   "outputs": [],
   "source": [
    "test = utils.load_data('data/test_data_complaints_repeats_doctors.csv')\n",
    "test_topics = np.load('data/topics_test_ngramm.npy')\n",
    "test = utils.join_topics(test, test_topics)"
   ]
  },
  {
   "cell_type": "code",
   "execution_count": 31,
   "metadata": {},
   "outputs": [],
   "source": [
    "test_pred = pipe.predict(test)"
   ]
  },
  {
   "cell_type": "code",
   "execution_count": 32,
   "metadata": {},
   "outputs": [],
   "source": [
    "submit = pd.DataFrame({'Id_Записи': test['Id_Записи'], 'Код_диагноза': test_pred})"
   ]
  },
  {
   "cell_type": "code",
   "execution_count": 33,
   "metadata": {},
   "outputs": [
    {
     "data": {
      "text/plain": [
       "J06.9      21386\n",
       "M42.1       2128\n",
       "N76.0       1172\n",
       "Z32.1        751\n",
       "K30          605\n",
       "J35.0        447\n",
       "J00          395\n",
       "N60.1        372\n",
       "I11          333\n",
       "Z01.8        281\n",
       "N41.1        237\n",
       "H52.1        218\n",
       "J01.0        173\n",
       "M65          108\n",
       "M51           92\n",
       "N77.1*        83\n",
       "J30.3         79\n",
       "I83.9         78\n",
       "Z34.0         75\n",
       "Z00.0         74\n",
       "M54.4         73\n",
       "M54.5         70\n",
       "B07           66\n",
       "N76.1         63\n",
       "D23.9         53\n",
       "J35.8         44\n",
       "E04.2         42\n",
       "M41           35\n",
       "Z01.0         32\n",
       "M54.2         31\n",
       "           ...  \n",
       "H65            2\n",
       "J41.0          2\n",
       "M53.0          2\n",
       "N40            2\n",
       "D24            2\n",
       "J30            2\n",
       "M15-M19        1\n",
       "N20.0          1\n",
       "H10.2          1\n",
       "N84.0          1\n",
       "K86.1          1\n",
       "B97.7          1\n",
       "L02.0          1\n",
       "K83.9          1\n",
       "M12.5          1\n",
       "M21.4          1\n",
       "L30.8          1\n",
       "N86            1\n",
       "B02            1\n",
       "I67.4          1\n",
       "M71.8          1\n",
       "N95.1          1\n",
       "I10            1\n",
       "N70            1\n",
       "M51.1          1\n",
       "E66.0          1\n",
       "J31.0          1\n",
       "H52.0          1\n",
       "J31.2          1\n",
       "M43.9          1\n",
       "Name: Код_диагноза, Length: 98, dtype: int64"
      ]
     },
     "execution_count": 33,
     "metadata": {},
     "output_type": "execute_result"
    }
   ],
   "source": [
    "submit['Код_диагноза'].value_counts()"
   ]
  },
  {
   "cell_type": "code",
   "execution_count": 34,
   "metadata": {},
   "outputs": [],
   "source": [
    "submit.to_csv('submit/bow_rfc_diag_200_compl_uni-n_gram_age_gender_doctor_topics_clinic_repeats_full_train.csv', header=True, index=False)"
   ]
  }
 ],
 "metadata": {
  "kernelspec": {
   "display_name": "Python 3",
   "language": "python",
   "name": "python3"
  },
  "language_info": {
   "codemirror_mode": {
    "name": "ipython",
    "version": 3
   },
   "file_extension": ".py",
   "mimetype": "text/x-python",
   "name": "python",
   "nbconvert_exporter": "python",
   "pygments_lexer": "ipython3",
   "version": "3.6.4"
  }
 },
 "nbformat": 4,
 "nbformat_minor": 2
}
