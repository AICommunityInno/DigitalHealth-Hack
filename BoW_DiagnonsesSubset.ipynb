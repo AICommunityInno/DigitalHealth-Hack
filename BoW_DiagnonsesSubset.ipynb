{
 "cells": [
  {
   "cell_type": "code",
   "execution_count": 2,
   "metadata": {},
   "outputs": [],
   "source": [
    "import utils\n",
    "\n",
    "import nltk\n",
    "from nltk.corpus import stopwords\n",
    "\n",
    "from sklearn.feature_extraction.text import CountVectorizer\n",
    "from sklearn.feature_extraction.text import TfidfVectorizer\n",
    "from sklearn.pipeline import Pipeline, FeatureUnion\n",
    "from sklearn.base import BaseEstimator, TransformerMixin\n",
    "from sklearn.svm import SVC\n",
    "from sklearn.ensemble import RandomForestClassifier\n",
    "from sklearn.model_selection import train_test_split\n",
    "from sklearn.metrics import jaccard_similarity_score\n",
    "\n",
    "import pandas as pd\n",
    "import numpy as np\n",
    "from scipy.sparse import csr_matrix\n",
    "import scipy"
   ]
  },
  {
   "cell_type": "code",
   "execution_count": 3,
   "metadata": {},
   "outputs": [],
   "source": [
    "def load_data(path):\n",
    "    data = pd.read_csv(path)\n",
    "    data['Жалобы (ngramm)'] = data['Жалобы (ngramm)'].fillna('')\n",
    "    \n",
    "    return data"
   ]
  },
  {
   "cell_type": "code",
   "execution_count": 4,
   "metadata": {},
   "outputs": [],
   "source": [
    "train = load_data('data/train_data_complaints_repeats_doctors.csv')"
   ]
  },
  {
   "cell_type": "code",
   "execution_count": 5,
   "metadata": {},
   "outputs": [
    {
     "data": {
      "text/html": [
       "<div>\n",
       "<style scoped>\n",
       "    .dataframe tbody tr th:only-of-type {\n",
       "        vertical-align: middle;\n",
       "    }\n",
       "\n",
       "    .dataframe tbody tr th {\n",
       "        vertical-align: top;\n",
       "    }\n",
       "\n",
       "    .dataframe thead th {\n",
       "        text-align: right;\n",
       "    }\n",
       "</style>\n",
       "<table border=\"1\" class=\"dataframe\">\n",
       "  <thead>\n",
       "    <tr style=\"text-align: right;\">\n",
       "      <th></th>\n",
       "      <th>Unnamed: 0</th>\n",
       "      <th>Id_Записи</th>\n",
       "      <th>Id_Пациента</th>\n",
       "      <th>Возраст</th>\n",
       "      <th>Диагноз</th>\n",
       "      <th>Жалобы</th>\n",
       "      <th>Источник_рекламы</th>\n",
       "      <th>Клиника</th>\n",
       "      <th>Код_диагноза</th>\n",
       "      <th>Пол</th>\n",
       "      <th>Услуга</th>\n",
       "      <th>Жалобы (ngramm)</th>\n",
       "      <th>Жалобы (unigramm)</th>\n",
       "      <th>Врач</th>\n",
       "      <th>Повторный приём</th>\n",
       "    </tr>\n",
       "  </thead>\n",
       "  <tbody>\n",
       "    <tr>\n",
       "      <th>0</th>\n",
       "      <td>0</td>\n",
       "      <td>0</td>\n",
       "      <td>115819</td>\n",
       "      <td>54</td>\n",
       "      <td>Гипертензивная болезнь сердца [гипертоническая...</td>\n",
       "      <td>на повышение ад утром до 140/90 мм.рт.ст., пер...</td>\n",
       "      <td>Другое</td>\n",
       "      <td>5</td>\n",
       "      <td>I11</td>\n",
       "      <td>2</td>\n",
       "      <td>Прием врача-кардиолога  повторный, амбулаторный</td>\n",
       "      <td>повышение_ада</td>\n",
       "      <td>повышение ада утром мм рт ст периодич головокр...</td>\n",
       "      <td>кардиолог</td>\n",
       "      <td>1</td>\n",
       "    </tr>\n",
       "    <tr>\n",
       "      <th>1</th>\n",
       "      <td>1</td>\n",
       "      <td>1</td>\n",
       "      <td>399973</td>\n",
       "      <td>32</td>\n",
       "      <td>Доброкачественное новообразование молочной железы</td>\n",
       "      <td>На наличие опухоли в левой молочной железе</td>\n",
       "      <td>Другое</td>\n",
       "      <td>3</td>\n",
       "      <td>D24</td>\n",
       "      <td>2</td>\n",
       "      <td>Прием врача-онколога (маммолога), повторный, а...</td>\n",
       "      <td>наличие_опухоль левый_молочный_железо</td>\n",
       "      <td>наличие опухоль левый молочный железо</td>\n",
       "      <td>онколог</td>\n",
       "      <td>1</td>\n",
       "    </tr>\n",
       "    <tr>\n",
       "      <th>2</th>\n",
       "      <td>2</td>\n",
       "      <td>2</td>\n",
       "      <td>427563</td>\n",
       "      <td>72</td>\n",
       "      <td>Простой хронический бронхит</td>\n",
       "      <td>Активных жалоб нет.</td>\n",
       "      <td>Интернет</td>\n",
       "      <td>6</td>\n",
       "      <td>J41.0</td>\n",
       "      <td>2</td>\n",
       "      <td>Прием первичный врача-пульмонолога</td>\n",
       "      <td>активный_жалоба</td>\n",
       "      <td>активный жалоба</td>\n",
       "      <td>пульмонолог</td>\n",
       "      <td>0</td>\n",
       "    </tr>\n",
       "  </tbody>\n",
       "</table>\n",
       "</div>"
      ],
      "text/plain": [
       "   Unnamed: 0  Id_Записи  Id_Пациента  Возраст  \\\n",
       "0           0          0       115819       54   \n",
       "1           1          1       399973       32   \n",
       "2           2          2       427563       72   \n",
       "\n",
       "                                             Диагноз  \\\n",
       "0  Гипертензивная болезнь сердца [гипертоническая...   \n",
       "1  Доброкачественное новообразование молочной железы   \n",
       "2                        Простой хронический бронхит   \n",
       "\n",
       "                                              Жалобы Источник_рекламы  \\\n",
       "0  на повышение ад утром до 140/90 мм.рт.ст., пер...           Другое   \n",
       "1         На наличие опухоли в левой молочной железе           Другое   \n",
       "2                                Активных жалоб нет.         Интернет   \n",
       "\n",
       "   Клиника Код_диагноза  Пол  \\\n",
       "0        5          I11    2   \n",
       "1        3          D24    2   \n",
       "2        6        J41.0    2   \n",
       "\n",
       "                                              Услуга  \\\n",
       "0    Прием врача-кардиолога  повторный, амбулаторный   \n",
       "1  Прием врача-онколога (маммолога), повторный, а...   \n",
       "2                 Прием первичный врача-пульмонолога   \n",
       "\n",
       "                         Жалобы (ngramm)  \\\n",
       "0                          повышение_ада   \n",
       "1  наличие_опухоль левый_молочный_железо   \n",
       "2                        активный_жалоба   \n",
       "\n",
       "                                   Жалобы (unigramm)         Врач  \\\n",
       "0  повышение ада утром мм рт ст периодич головокр...    кардиолог   \n",
       "1              наличие опухоль левый молочный железо      онколог   \n",
       "2                                    активный жалоба  пульмонолог   \n",
       "\n",
       "   Повторный приём  \n",
       "0                1  \n",
       "1                1  \n",
       "2                0  "
      ]
     },
     "execution_count": 5,
     "metadata": {},
     "output_type": "execute_result"
    }
   ],
   "source": [
    "train.head(3)"
   ]
  },
  {
   "cell_type": "code",
   "execution_count": 6,
   "metadata": {},
   "outputs": [
    {
     "data": {
      "text/plain": [
       "<61976x1446 sparse matrix of type '<class 'numpy.float64'>'\n",
       "\twith 365263 stored elements in Compressed Sparse Row format>"
      ]
     },
     "execution_count": 6,
     "metadata": {},
     "output_type": "execute_result"
    }
   ],
   "source": [
    "complaints = train['Жалобы (unigramm)']\n",
    "tfidf_complaints = TfidfVectorizer(ngram_range=(1,1), min_df=10, stop_words=stopwords.words('russian'))\n",
    "tfidf_complaints.fit_transform(complaints)"
   ]
  },
  {
   "cell_type": "code",
   "execution_count": 7,
   "metadata": {},
   "outputs": [],
   "source": [
    "class ItemSelector(BaseEstimator, TransformerMixin):\n",
    "    def __init__(self, key):\n",
    "        self.key = key\n",
    "\n",
    "    def fit(self, x, y=None):\n",
    "        return self\n",
    "\n",
    "    def transform(self, data_dict):\n",
    "        return data_dict[self.key]\n",
    "\n",
    "class DoctorsPopularityTransformator(BaseEstimator, TransformerMixin):\n",
    "    def fit(self, x, y=None):\n",
    "        doctors = x.fillna('sss')\n",
    "        doctors_voc, counts = np.unique(doctors, return_counts=True)\n",
    "        self.pop_doctor = doctors_voc[np.argsort(counts)[::-1][0]]\n",
    "        \n",
    "        return self\n",
    "\n",
    "    def transform(self, x):\n",
    "        x = x.fillna('sss')\n",
    "        x[x == 'sss'] = self.pop_doctor\n",
    "        \n",
    "        return x\n",
    "    \n",
    "class GenderTransformator(BaseEstimator, TransformerMixin):\n",
    "    def fit(self, x, y=None):\n",
    "        return self\n",
    "    \n",
    "    def transform(self, x):\n",
    "        x = x.copy()\n",
    "        x[x == 1] = 0\n",
    "        x[x == 2] = 1\n",
    "        \n",
    "        return np.expand_dims(x, axis=1)\n",
    "    \n",
    "class AgeTransformator(BaseEstimator, TransformerMixin):\n",
    "    def fit(self, x, y=None):\n",
    "        return self\n",
    "    \n",
    "    def transform(self, x):\n",
    "        return np.expand_dims(x, axis=1)"
   ]
  },
  {
   "cell_type": "code",
   "execution_count": 8,
   "metadata": {},
   "outputs": [],
   "source": [
    "def preproc_target_train(data, reduce_classes=False):\n",
    "    diagnoses = data['Код_диагноза'].copy()\n",
    "    \n",
    "    if reduce_classes:\n",
    "        pop_diagnoses = set(utils.get_most_popular_diagnoses(diagnoses, percent=.80))\n",
    "        most_pop_diagnose = scipy.stats.mode(diagnoses)[0][0]\n",
    "    else:\n",
    "        pop_diagnoses = set(diagnoses)\n",
    "        most_pop_diagnose = scipy.stats.mode(diagnoses)[0][0]\n",
    "    \n",
    "    diagnoses = diagnoses.apply(\n",
    "        lambda diag: diag if diag in pop_diagnoses else most_pop_diagnose\n",
    "    )\n",
    "    \n",
    "    return diagnoses, pop_diagnoses, most_pop_diagnose\n",
    "\n",
    "def preproc_target_test(data, pop_diagnoses, most_pop_diagnose):\n",
    "    diagnoses = data['Код_диагноза'].copy()\n",
    "    \n",
    "    diagnoses = diagnoses.apply(\n",
    "        lambda diag: diag if diag in pop_diagnoses else most_pop_diagnose\n",
    "    )\n",
    "    \n",
    "    return diagnoses, pop_diagnoses, most_pop_diagnose"
   ]
  },
  {
   "cell_type": "code",
   "execution_count": 33,
   "metadata": {},
   "outputs": [],
   "source": [
    "pipe = Pipeline([\n",
    "    ('union', FeatureUnion(\n",
    "        transformer_list = [\n",
    "            ('complaints_pipe', Pipeline([\n",
    "                ('complaint_selector', ItemSelector(key='Жалобы (unigramm)')),\n",
    "                ('tfidf', TfidfVectorizer(ngram_range=(1,1), min_df=10, stop_words=stopwords.words('russian')))\n",
    "            ])),\n",
    "#             ('complaints_n_pipe', Pipeline([\n",
    "#                 ('complaint_n_selector', ItemSelector(key='Жалобы (ngramm)')),\n",
    "#                 ('tfidf', TfidfVectorizer(ngram_range=(1,1), min_df=1, stop_words=stopwords.words('russian')))\n",
    "#             ])),\n",
    "#             ('doctor_pipe', Pipeline([\n",
    "#                 ('doctor_selector', ItemSelector(key='Врач')),\n",
    "#                 ('doc_pop', DoctorsPopularityTransformator()),\n",
    "#                 ('count_vect', CountVectorizer())\n",
    "#             ])),\n",
    "#             ('gender_pipe', Pipeline([\n",
    "#                 ('gender_selector', ItemSelector(key='Пол')),\n",
    "#                 ('gender_transform', GenderTransformator())\n",
    "#             ])),\n",
    "#             ('age_pipe', Pipeline([\n",
    "#                 ('age_selector', ItemSelector(key='Возраст')),\n",
    "#                 ('age_transformator', AgeTransformator())\n",
    "#             ]))\n",
    "        ]\n",
    "    )),\n",
    "    ('clf', RandomForestClassifier(n_estimators=1000, n_jobs=-1, max_depth=20))\n",
    "])"
   ]
  },
  {
   "cell_type": "code",
   "execution_count": 62,
   "metadata": {},
   "outputs": [],
   "source": [
    "train = load_data('data/train_data_complaints_repeats_doctors.csv')\n",
    "train, valid = train_test_split(train, test_size=0.5)"
   ]
  },
  {
   "cell_type": "code",
   "execution_count": 63,
   "metadata": {},
   "outputs": [
    {
     "name": "stderr",
     "output_type": "stream",
     "text": [
      "/root/anaconda3/lib/python3.6/site-packages/scipy/stats/stats.py:245: RuntimeWarning: The input array could not be properly checked for nan values. nan values will be ignored.\n",
      "  \"values. nan values will be ignored.\", RuntimeWarning)\n"
     ]
    }
   ],
   "source": [
    "train_y, pop_diagnoses, most_pop_diagnose = preproc_target_train(train, reduce_classes=True)\n",
    "valid_y, _, _ = preproc_target_test(valid, pop_diagnoses, most_pop_diagnose)"
   ]
  },
  {
   "cell_type": "code",
   "execution_count": 64,
   "metadata": {},
   "outputs": [
    {
     "data": {
      "text/plain": [
       "(195,)"
      ]
     },
     "execution_count": 64,
     "metadata": {},
     "output_type": "execute_result"
    }
   ],
   "source": [
    "np.unique(train_y).shape"
   ]
  },
  {
   "cell_type": "code",
   "execution_count": 65,
   "metadata": {},
   "outputs": [
    {
     "data": {
      "text/plain": [
       "Pipeline(memory=None,\n",
       "     steps=[('union', FeatureUnion(n_jobs=1,\n",
       "       transformer_list=[('complaints_pipe', Pipeline(memory=None,\n",
       "     steps=[('complaint_selector', ItemSelector(key='Жалобы (unigramm)')), ('tfidf', TfidfVectorizer(analyzer='word', binary=False, decode_error='strict',\n",
       "        dtype=<class 'numpy.int64'>, e..._jobs=-1,\n",
       "            oob_score=False, random_state=None, verbose=0,\n",
       "            warm_start=False))])"
      ]
     },
     "execution_count": 65,
     "metadata": {},
     "output_type": "execute_result"
    }
   ],
   "source": [
    "pipe.fit(train, train_y)"
   ]
  },
  {
   "cell_type": "code",
   "execution_count": 66,
   "metadata": {
    "collapsed": true
   },
   "outputs": [
    {
     "ename": "IndexError",
     "evalue": "list index out of range",
     "output_type": "error",
     "traceback": [
      "\u001b[0;31m---------------------------------------------------------------------------\u001b[0m",
      "\u001b[0;31mIndexError\u001b[0m                                Traceback (most recent call last)",
      "\u001b[0;32m<ipython-input-66-0f1480cf6bdf>\u001b[0m in \u001b[0;36m<module>\u001b[0;34m()\u001b[0m\n\u001b[0;32m----> 1\u001b[0;31m \u001b[0mlen\u001b[0m\u001b[0;34m(\u001b[0m\u001b[0mpipe\u001b[0m\u001b[0;34m.\u001b[0m\u001b[0msteps\u001b[0m\u001b[0;34m[\u001b[0m\u001b[0;34m-\u001b[0m\u001b[0;36m2\u001b[0m\u001b[0;34m]\u001b[0m\u001b[0;34m[\u001b[0m\u001b[0;34m-\u001b[0m\u001b[0;36m1\u001b[0m\u001b[0;34m]\u001b[0m\u001b[0;34m.\u001b[0m\u001b[0mtransformer_list\u001b[0m\u001b[0;34m[\u001b[0m\u001b[0;36m1\u001b[0m\u001b[0;34m]\u001b[0m\u001b[0;34m[\u001b[0m\u001b[0;36m1\u001b[0m\u001b[0;34m]\u001b[0m\u001b[0;34m.\u001b[0m\u001b[0msteps\u001b[0m\u001b[0;34m[\u001b[0m\u001b[0;36m1\u001b[0m\u001b[0;34m]\u001b[0m\u001b[0;34m[\u001b[0m\u001b[0;36m1\u001b[0m\u001b[0;34m]\u001b[0m\u001b[0;34m.\u001b[0m\u001b[0mvocabulary_\u001b[0m\u001b[0;34m)\u001b[0m\u001b[0;34m\u001b[0m\u001b[0m\n\u001b[0m",
      "\u001b[0;31mIndexError\u001b[0m: list index out of range"
     ]
    }
   ],
   "source": [
    "# len(pipe.steps[-2][-1].transformer_list[1][1].steps[1][1].vocabulary_)"
   ]
  },
  {
   "cell_type": "code",
   "execution_count": 77,
   "metadata": {},
   "outputs": [],
   "source": [
    "pred = pipe.predict(valid)"
   ]
  },
  {
   "cell_type": "code",
   "execution_count": 78,
   "metadata": {},
   "outputs": [
    {
     "data": {
      "text/plain": [
       "0.32838518136052663"
      ]
     },
     "execution_count": 78,
     "metadata": {},
     "output_type": "execute_result"
    }
   ],
   "source": [
    "jaccard_similarity_score(np.array(valid_y), pred)"
   ]
  },
  {
   "cell_type": "code",
   "execution_count": 79,
   "metadata": {},
   "outputs": [
    {
     "data": {
      "text/plain": [
       "(array(['B07', 'B37.3+', 'D23.9', 'D24', 'D25', 'H52.1', 'H60', 'H65',\n",
       "        'H68.1', 'I11', 'I83.9', 'J00', 'J01.0', 'J01.8', 'J06.9', 'J30',\n",
       "        'J30.1', 'J30.3', 'J31.0', 'J31.1', 'J34.2', 'J35.0', 'J35.8',\n",
       "        'K21.0', 'K29.5', 'K29.9', 'K30', 'M41', 'M42', 'M42.1', 'M51.3',\n",
       "        'M53.0', 'M54', 'M54.2', 'M54.4', 'M54.5', 'M65', 'N41.1', 'N60.1',\n",
       "        'N72', 'N76.0', 'N76.1', 'N77.1*', 'N86', 'Z00.0', 'Z01.4',\n",
       "        'Z01.8', 'Z32.1', 'Z34.0'], dtype=object),\n",
       " array([   38,    66,    55,     1,     1,   218,     2,     2,     3,\n",
       "          374,    49,   248,   360,     1, 23375,     1,    19,    80,\n",
       "            4,    21,     7,   262,     9,     4,    95,     2,   585,\n",
       "            5,     1,  2126,    22,     5,    18,     7,    91,    34,\n",
       "           62,   108,   300,    23,   760,    53,   251,     2,     2,\n",
       "            3,   477,   739,    17]))"
      ]
     },
     "execution_count": 79,
     "metadata": {},
     "output_type": "execute_result"
    }
   ],
   "source": [
    "np.unique(pred, return_counts=True)"
   ]
  },
  {
   "cell_type": "markdown",
   "metadata": {},
   "source": [
    "## Submit"
   ]
  },
  {
   "cell_type": "code",
   "execution_count": 48,
   "metadata": {},
   "outputs": [
    {
     "name": "stderr",
     "output_type": "stream",
     "text": [
      "/root/anaconda3/lib/python3.6/site-packages/scipy/stats/stats.py:245: RuntimeWarning: The input array could not be properly checked for nan values. nan values will be ignored.\n",
      "  \"values. nan values will be ignored.\", RuntimeWarning)\n"
     ]
    }
   ],
   "source": [
    "train = load_data('data/train_data_complaints_repeats_doctors.csv')\n",
    "train_y, pop_diagnoses, most_pop_diagnose = preproc_target_train(train, reduce_classes=True)"
   ]
  },
  {
   "cell_type": "code",
   "execution_count": 49,
   "metadata": {},
   "outputs": [
    {
     "data": {
      "text/plain": [
       "Pipeline(memory=None,\n",
       "     steps=[('union', FeatureUnion(n_jobs=1,\n",
       "       transformer_list=[('complaints_pipe', Pipeline(memory=None,\n",
       "     steps=[('complaint_selector', ItemSelector(key='Жалобы (unigramm)')), ('tfidf', TfidfVectorizer(analyzer='word', binary=False, decode_error='strict',\n",
       "        dtype=<class 'numpy.int64'>, e..._jobs=-1,\n",
       "            oob_score=False, random_state=None, verbose=0,\n",
       "            warm_start=False))])"
      ]
     },
     "execution_count": 49,
     "metadata": {},
     "output_type": "execute_result"
    }
   ],
   "source": [
    "pipe.fit(train, train_y)"
   ]
  },
  {
   "cell_type": "code",
   "execution_count": 71,
   "metadata": {},
   "outputs": [],
   "source": [
    "test = load_data('data/test_data_complaints_repeats_doctors.csv')"
   ]
  },
  {
   "cell_type": "code",
   "execution_count": 73,
   "metadata": {},
   "outputs": [],
   "source": [
    "test_pred = pipe.predict(test)"
   ]
  },
  {
   "cell_type": "code",
   "execution_count": 74,
   "metadata": {},
   "outputs": [],
   "source": [
    "submit = pd.DataFrame({'Id_Записи': test['Id_Записи'], 'Код_диагноза': test_pred})"
   ]
  },
  {
   "cell_type": "code",
   "execution_count": 75,
   "metadata": {},
   "outputs": [
    {
     "data": {
      "text/plain": [
       "J06.9     22263\n",
       "M42.1      2101\n",
       "N76.0       835\n",
       "Z32.1       810\n",
       "K30         539\n",
       "Z01.8       490\n",
       "J01.0       358\n",
       "I11         328\n",
       "J35.0       293\n",
       "N60.1       281\n",
       "J00         265\n",
       "N77.1*      241\n",
       "H52.1       220\n",
       "N41.1       114\n",
       "M54.4       114\n",
       "K29.5        92\n",
       "B37.3+       73\n",
       "J30.3        66\n",
       "M65          63\n",
       "I83.9        61\n",
       "D23.9        58\n",
       "N76.1        57\n",
       "B07          39\n",
       "M54.5        33\n",
       "N72          28\n",
       "M51.3        24\n",
       "J30.1        21\n",
       "J31.1        21\n",
       "J34.2        16\n",
       "M54          15\n",
       "Z34.0        13\n",
       "J35.8        10\n",
       "J31.0         6\n",
       "K29.9         5\n",
       "K21.0         5\n",
       "M54.2         4\n",
       "M41           4\n",
       "H68.1         4\n",
       "J30           3\n",
       "H65           3\n",
       "M53.0         3\n",
       "H52.0         2\n",
       "E04.1         2\n",
       "M42           2\n",
       "Z01.4         2\n",
       "J31.2         2\n",
       "N84.0         2\n",
       "K86.1         1\n",
       "J03           1\n",
       "J01.8         1\n",
       "D24           1\n",
       "G44.2         1\n",
       "K29.3         1\n",
       "H61.2         1\n",
       "M53.8         1\n",
       "H60           1\n",
       "Name: Код_диагноза, dtype: int64"
      ]
     },
     "execution_count": 75,
     "metadata": {},
     "output_type": "execute_result"
    }
   ],
   "source": [
    "submit['Код_диагноза'].value_counts()"
   ]
  },
  {
   "cell_type": "code",
   "execution_count": 76,
   "metadata": {},
   "outputs": [],
   "source": [
    "submit.to_csv('submit/bow_rfc_diag_200_compl_uni_w-o_age_gender.csv', header=True, index=False)"
   ]
  }
 ],
 "metadata": {
  "kernelspec": {
   "display_name": "Python 3",
   "language": "python",
   "name": "python3"
  },
  "language_info": {
   "codemirror_mode": {
    "name": "ipython",
    "version": 3
   },
   "file_extension": ".py",
   "mimetype": "text/x-python",
   "name": "python",
   "nbconvert_exporter": "python",
   "pygments_lexer": "ipython3",
   "version": "3.6.4"
  }
 },
 "nbformat": 4,
 "nbformat_minor": 2
}
